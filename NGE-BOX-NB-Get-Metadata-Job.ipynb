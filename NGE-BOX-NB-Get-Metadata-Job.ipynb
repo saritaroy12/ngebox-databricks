{
 "cells": [
  {
   "cell_type": "code",
   "execution_count": 0,
   "metadata": {
    "application/vnd.databricks.v1+cell": {
     "cellMetadata": {
      "byteLimit": 2048000,
      "rowLimit": 10000
     },
     "inputWidgets": {},
     "nuid": "81261ff6-241d-4721-86fa-917fd482a2ff",
     "showTitle": false,
     "title": ""
    }
   },
   "outputs": [
    {
     "output_type": "display_data",
     "data": {
      "application/vnd.databricks.v1+bamboolib_hint": "{\"pd.DataFrames\": [], \"version\": \"0.0.1\"}",
      "text/plain": []
     },
     "metadata": {},
     "output_type": "display_data"
    }
   ],
   "source": [
    "%python\n",
    "## Import libraries\n",
    "import pyspark as ps\n",
    "from pyspark.sql.functions import *\n",
    "from pyspark.sql.types import *\n",
    "from collections import defaultdict\n",
    "from datetime import *\n",
    "import pandas as pd\n",
    "import json\n"
   ]
  },
  {
   "cell_type": "code",
   "execution_count": 0,
   "metadata": {
    "application/vnd.databricks.v1+cell": {
     "cellMetadata": {
      "byteLimit": 2048000,
      "rowLimit": 10000
     },
     "inputWidgets": {},
     "nuid": "0c85f1ef-6eb8-4bd1-91ce-a35a851abc8c",
     "showTitle": false,
     "title": ""
    }
   },
   "outputs": [],
   "source": [
    "class GetNgeMetadata:\n",
    "  def __init__(self):\n",
    "    self.query = \"Query About to fill\"\n",
    "    self.sql_df = pd.DataFrame()\n",
    "    self.metadata_json = {\"Metadata\":[]}    \n",
    "  \n",
    "  def logger(message):\n",
    "    print(message)\n",
    "    \n",
    "  \n",
    "  def set_query_string(self):\n",
    "    query = \"select distinct nsr.usecase_id,mu.Step_Function,mo.Sequence_Nr, mo.job_id, mo.Mapping_Params from com_us_alyt_ngebox.ib_ngebox_suggestion_requests nsr join com_us_alyt_ngebox.metadata_usecase mu on mu.usecase_id = nsr.usecase_id join com_us_alyt_ngebox.metadata_usecase_job mo on mo.usecase_id = mu.usecase_id order by mo.Sequence_Nr\"\n",
    "    self.query = query\n",
    "  \n",
    "  def run_query_and_set_sqldf(self):\n",
    "    sql_df = sqlContext.sql(self.query).collect()\n",
    "    self.sql_df = sql_df\n",
    "    \n",
    "  def format_sqldf_to_json(self):\n",
    "    sql_output_rowlist = []\n",
    "    for curr_row in self.sql_df: \n",
    "      sql_output_rowlist.append (curr_row.asDict(True))\n",
    "    sql_df_new = pd.DataFrame(sql_output_rowlist)\n",
    "    sql_df_new['Sequence_Nr']= sql_df_new['Sequence_Nr'].astype(str)\n",
    "    #grouped_df = sql_df_new.groupby(\"job_id\", group_keys=True).apply(lambda x: x)\n",
    "    #grouped_df_ABC = grouped_df.groupby(['usecase_id','Step_Function'],as_index = False).agg({'job_id':','.join,'Mapping_Params':','.join,'Sequence_Nr':','.join})\n",
    "    sql_jsonstr = sql_df_new.to_json(orient=\"records\") # type(result) -> str\n",
    "    sql_jsonparse = json.loads(sql_jsonstr) # type(parsed_json) -> list\n",
    "    metadata_json = {\"Metadata\":sql_jsonparse} # type(metadata_json) -> dict\n",
    "    data = metadata_json\n",
    "    '''grouped_data = defaultdict(list)\n",
    "    for item in data['Metadata']:\n",
    "     grouped_data[item['']].append(item)\n",
    "    result = {'Metadata': []}\n",
    "    for key, values in grouped_data.items():\n",
    "     group = {'Step_Function': key,'usecase_id': key, 'data': values}\n",
    "     result['Metadata'].append(group)\n",
    "    self.metadata_json = json.dumps(result)'''\n",
    "\n",
    "    grouped_data = defaultdict(list)\n",
    "    for item in data['Metadata']:\n",
    "     key = (item['Step_Function'], item['usecase_id'])\n",
    "     grouped_data[key].append(item)\n",
    "\n",
    "    result = {'Metadata': []}\n",
    "    for key, values in grouped_data.items():\n",
    "     step_func, usecase_id = key\n",
    "     group = {'Step_Function': step_func, 'usecase_id': usecase_id, 'data': values}\n",
    "     result['Metadata'].append(group)\n",
    "    self.metadata_json = json.dumps(result)\n",
    "\n",
    "    \n",
    "  def construct_microservice_response(self):\n",
    "    resp = {\n",
    "      \"nge_response\": {\n",
    "        \"status\": 200,\n",
    "        \"body\": self.metadata_json\n",
    "      }\n",
    "    }\n",
    "    self.response = resp\n"
   ]
  },
  {
   "cell_type": "code",
   "execution_count": 0,
   "metadata": {
    "application/vnd.databricks.v1+cell": {
     "cellMetadata": {
      "byteLimit": 2048000,
      "rowLimit": 10000
     },
     "inputWidgets": {},
     "nuid": "17c6f18d-33f0-438a-a3c7-035258c437a6",
     "showTitle": false,
     "title": ""
    }
   },
   "outputs": [
    {
     "output_type": "display_data",
     "data": {
      "text/plain": [
       "{'nge_response': {'status': 200, 'body': '{\"Metadata\": [{\"Step_Function\": \"arn:aws:states:us-east-1:263789222982:stateMachine:NGE-Box-Usecase-Step-Function\", \"usecase_id\": 511, \"data\": [{\"usecase_id\": 511, \"Step_Function\": \"arn:aws:states:us-east-1:263789222982:stateMachine:NGE-Box-Usecase-Step-Function\", \"Sequence_Nr\": \"1\", \"job_id\": \"116908941694171\", \"Mapping_Params\": \"NA\"}, {\"usecase_id\": 511, \"Step_Function\": \"arn:aws:states:us-east-1:263789222982:stateMachine:NGE-Box-Usecase-Step-Function\", \"Sequence_Nr\": \"2\", \"job_id\": \"809892230969831\", \"Mapping_Params\": \"NA\"}, {\"usecase_id\": 511, \"Step_Function\": \"arn:aws:states:us-east-1:263789222982:stateMachine:NGE-Box-Usecase-Step-Function\", \"Sequence_Nr\": \"3\", \"job_id\": \"73435209655585\", \"Mapping_Params\": \"NA\"}, {\"usecase_id\": 511, \"Step_Function\": \"arn:aws:states:us-east-1:263789222982:stateMachine:NGE-Box-Usecase-Step-Function\", \"Sequence_Nr\": \"4\", \"job_id\": \"864957890369833\", \"Mapping_Params\": \"NA\"}, {\"usecase_id\": 511, \"Step_Function\": \"arn:aws:states:us-east-1:263789222982:stateMachine:NGE-Box-Usecase-Step-Function\", \"Sequence_Nr\": \"5\", \"job_id\": \"530595765162780\", \"Mapping_Params\": \"NA\"}, {\"usecase_id\": 511, \"Step_Function\": \"arn:aws:states:us-east-1:263789222982:stateMachine:NGE-Box-Usecase-Step-Function\", \"Sequence_Nr\": \"6\", \"job_id\": \"122440956821508\", \"Mapping_Params\": \"NA\"}, {\"usecase_id\": 511, \"Step_Function\": \"arn:aws:states:us-east-1:263789222982:stateMachine:NGE-Box-Usecase-Step-Function\", \"Sequence_Nr\": \"7\", \"job_id\": \"96654506581317\", \"Mapping_Params\": \"NA\"}, {\"usecase_id\": 511, \"Step_Function\": \"arn:aws:states:us-east-1:263789222982:stateMachine:NGE-Box-Usecase-Step-Function\", \"Sequence_Nr\": \"8\", \"job_id\": \"145248723148216\", \"Mapping_Params\": \"NA\"}]}]}'}}"
      ]
     },
     "metadata": {
      "application/vnd.databricks.v1+output": {
       "arguments": {},
       "data": "{'nge_response': {'status': 200, 'body': '{\"Metadata\": [{\"Step_Function\": \"arn:aws:states:us-east-1:263789222982:stateMachine:NGE-Box-Usecase-Step-Function\", \"usecase_id\": 511, \"data\": [{\"usecase_id\": 511, \"Step_Function\": \"arn:aws:states:us-east-1:263789222982:stateMachine:NGE-Box-Usecase-Step-Function\", \"Sequence_Nr\": \"1\", \"job_id\": \"116908941694171\", \"Mapping_Params\": \"NA\"}, {\"usecase_id\": 511, \"Step_Function\": \"arn:aws:states:us-east-1:263789222982:stateMachine:NGE-Box-Usecase-Step-Function\", \"Sequence_Nr\": \"2\", \"job_id\": \"809892230969831\", \"Mapping_Params\": \"NA\"}, {\"usecase_id\": 511, \"Step_Function\": \"arn:aws:states:us-east-1:263789222982:stateMachine:NGE-Box-Usecase-Step-Function\", \"Sequence_Nr\": \"3\", \"job_id\": \"73435209655585\", \"Mapping_Params\": \"NA\"}, {\"usecase_id\": 511, \"Step_Function\": \"arn:aws:states:us-east-1:263789222982:stateMachine:NGE-Box-Usecase-Step-Function\", \"Sequence_Nr\": \"4\", \"job_id\": \"864957890369833\", \"Mapping_Params\": \"NA\"}, {\"usecase_id\": 511, \"Step_Function\": \"arn:aws:states:us-east-1:263789222982:stateMachine:NGE-Box-Usecase-Step-Function\", \"Sequence_Nr\": \"5\", \"job_id\": \"530595765162780\", \"Mapping_Params\": \"NA\"}, {\"usecase_id\": 511, \"Step_Function\": \"arn:aws:states:us-east-1:263789222982:stateMachine:NGE-Box-Usecase-Step-Function\", \"Sequence_Nr\": \"6\", \"job_id\": \"122440956821508\", \"Mapping_Params\": \"NA\"}, {\"usecase_id\": 511, \"Step_Function\": \"arn:aws:states:us-east-1:263789222982:stateMachine:NGE-Box-Usecase-Step-Function\", \"Sequence_Nr\": \"7\", \"job_id\": \"96654506581317\", \"Mapping_Params\": \"NA\"}, {\"usecase_id\": 511, \"Step_Function\": \"arn:aws:states:us-east-1:263789222982:stateMachine:NGE-Box-Usecase-Step-Function\", \"Sequence_Nr\": \"8\", \"job_id\": \"145248723148216\", \"Mapping_Params\": \"NA\"}]}]}'}}",
       "metadata": {},
       "type": "exit"
      }
     },
     "output_type": "display_data"
    }
   ],
   "source": [
    "metadata_obj = GetNgeMetadata()\n",
    "metadata_obj.set_query_string()\n",
    "metadata_obj.run_query_and_set_sqldf()\n",
    "metadata_obj.format_sqldf_to_json()\n",
    "metadata_obj.construct_microservice_response()\n",
    "dbutils.notebook.exit(\n",
    "  metadata_obj.response\n",
    ")\n",
    "#json.dumps(metadata_obj)\n",
    "#from ppretty import ppretty\n",
    "#print ppretty(A(), show_protected=True, show_static=True, show_properties=True)\n",
    "#from pprint import pprint\n",
    "#pprint(metadata_obj)"
   ]
  }
 ],
 "metadata": {
  "application/vnd.databricks.v1+notebook": {
   "dashboards": [],
   "language": "python",
   "notebookMetadata": {
    "pythonIndentUnit": 4
   },
   "notebookName": "NGE-BOX-NB-Get-Metadata-Job",
   "widgets": {}
  }
 },
 "nbformat": 4,
 "nbformat_minor": 0
}
