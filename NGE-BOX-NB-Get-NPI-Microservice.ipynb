{
 "cells": [
  {
   "cell_type": "code",
   "execution_count": 0,
   "metadata": {
    "application/vnd.databricks.v1+cell": {
     "cellMetadata": {
      "byteLimit": 2048000,
      "rowLimit": 10000
     },
     "inputWidgets": {},
     "nuid": "0b1b2cd9-c8c6-40ac-930b-bf4e25b99aee",
     "showTitle": false,
     "title": ""
    }
   },
   "outputs": [],
   "source": [
    "%python\n",
    "## Import libraries\n",
    "import pyspark as ps\n",
    "from pyspark.sql.functions import *\n",
    "from pyspark.sql.types import *\n",
    "from datetime import *\n",
    "import pandas as pd\n",
    "import json"
   ]
  },
  {
   "cell_type": "code",
   "execution_count": 0,
   "metadata": {
    "application/vnd.databricks.v1+cell": {
     "cellMetadata": {
      "byteLimit": 2048000,
      "rowLimit": 10000
     },
     "inputWidgets": {},
     "nuid": "44153bcc-2737-4f57-ae51-5652fb114b92",
     "showTitle": false,
     "title": ""
    }
   },
   "outputs": [],
   "source": [
    "class GetNPI:\n",
    "  def __init__(self):\n",
    "    self.query = \"Query About to fill\"\n",
    "    self.sql_df = pd.DataFrame()\n",
    "    self.data_json = {\"Data\":[]}    \n",
    "  \n",
    "  def logger(message):\n",
    "    print(message)\n",
    "    \n",
    "    \n",
    "  def set_query_string(self):\n",
    "    query = \"\"\"MERGE INTO com_us_alyt_ngebox.NGEBox_Suggestion_Requests_Processed process_table \n",
    "USING (\n",
    "  select distinct tb1.NGEBox_Record_ID,tb2.id,tb2.npi, tb1.suggest_external_id_vod__c,tb4.hist_retention from com_us_alyt_ngebox.NGEBox_Suggestion_Requests_Processed tb1\n",
    "  inner join com_us_hub.ref_iengage_account tb2 on tb1.account_vod__c = tb2.id \n",
    "  left join com_us_lake.rep_suggestion_vod__c tb3 on tb3.SUGGESTION_EXTERNAL_ID_VOD__C = tb1.suggest_external_id_vod__c\n",
    "  inner join com_us_alyt_ngebox.metadata_usecase tb4 on tb1.usecase_id = tb4.usecase_id\n",
    "  where (tb3.SUGGESTION_EXTERNAL_ID_VOD__C is NULL) \n",
    "or (tb3.SUGGESTION_EXTERNAL_ID_VOD__C is not null and tb3.DISMISSED_VOD__C = 0)) source_table ON (process_table.account_vod__c = source_table.id and process_table.NGEBox_Record_ID = source_table.NGEBox_Record_ID and process_table.suggest_external_id_vod__c = source_table.suggest_external_id_vod__c and CAST(process_table.created_date as DATE) >= date_add(current_date,-source_table.hist_retention))\n",
    "WHEN MATCHED THEN\n",
    "UPDATE SET  process_table.hcp_npi = source_table.npi;\"\"\"\n",
    "    self.query = query \n",
    "    \n",
    "  def run_query_and_set_sqldf(self):\n",
    "    query_list = self.query.split(\";\")\n",
    "    self.sql_df = []\n",
    "    for curr_query in query_list:\n",
    "      if curr_query.strip() == \"\":\n",
    "        continue\n",
    "      sql_df = sqlContext.sql(curr_query).collect() # type(sql_df) -> dict\n",
    "      self.sql_df = self.sql_df + sql_df\n",
    "    \n",
    "  def format_sqldf_to_json(self):\n",
    "    sql_output_rowlist = []\n",
    "    for curr_row in self.sql_df: \n",
    "      sql_output_rowlist.append (curr_row.asDict(True))\n",
    "    sql_df_new = pd.DataFrame(sql_output_rowlist)\n",
    "    sql_jsonstr = sql_df_new.to_json(orient=\"records\") # type(result) -> str\n",
    "    sql_jsonparse = json.loads(sql_jsonstr) # type(parsed_json) -> list\n",
    "    nb_json = {\"data\":sql_jsonparse} # type(metadata_json) -> dict\n",
    "    self.nb_json = nb_json\n",
    "    \n",
    "  def construct_microservice_response(self):\n",
    "    resp = {\n",
    "      \"nge_response\": {\n",
    "        \"status\": 200,\n",
    "        \"body\": self.nb_json\n",
    "      }\n",
    "    }\n",
    "    self.response = resp"
   ]
  },
  {
   "cell_type": "code",
   "execution_count": 0,
   "metadata": {
    "application/vnd.databricks.v1+cell": {
     "cellMetadata": {
      "byteLimit": 2048000,
      "rowLimit": 10000
     },
     "inputWidgets": {},
     "nuid": "664eca79-6fa4-4946-932f-5454cc0109a5",
     "showTitle": false,
     "title": ""
    }
   },
   "outputs": [
    {
     "output_type": "display_data",
     "data": {
      "text/plain": [
       "{'nge_response': {'status': 200, 'body': {'data': [{'num_affected_rows': 158, 'num_updated_rows': 158, 'num_deleted_rows': 0, 'num_inserted_rows': 0}]}}}"
      ]
     },
     "metadata": {
      "application/vnd.databricks.v1+output": {
       "arguments": {},
       "data": "{'nge_response': {'status': 200, 'body': {'data': [{'num_affected_rows': 158, 'num_updated_rows': 158, 'num_deleted_rows': 0, 'num_inserted_rows': 0}]}}}",
       "metadata": {},
       "type": "exit"
      }
     },
     "output_type": "display_data"
    }
   ],
   "source": [
    "data_obj = GetNPI()\n",
    "data_obj.set_query_string()\n",
    "data_obj.run_query_and_set_sqldf()\n",
    "data_obj.format_sqldf_to_json()\n",
    "data_obj.construct_microservice_response()\n",
    "dbutils.notebook.exit(\n",
    "  data_obj.response\n",
    ")"
   ]
  }
 ],
 "metadata": {
  "application/vnd.databricks.v1+notebook": {
   "dashboards": [],
   "language": "python",
   "notebookMetadata": {
    "pythonIndentUnit": 2
   },
   "notebookName": "NGE-BOX-NB-Get-NPI-Microservice",
   "widgets": {}
  }
 },
 "nbformat": 4,
 "nbformat_minor": 0
}
