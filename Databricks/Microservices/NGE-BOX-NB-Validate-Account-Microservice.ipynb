{
 "cells": [
  {
   "cell_type": "code",
   "execution_count": 0,
   "metadata": {
    "application/vnd.databricks.v1+cell": {
     "cellMetadata": {
      "byteLimit": 2048000,
      "rowLimit": 10000
     },
     "inputWidgets": {},
     "nuid": "c45be796-3fd9-4d8f-ab49-5783c420a028",
     "showTitle": false,
     "title": ""
    }
   },
   "outputs": [],
   "source": [
    "%python\n",
    "## Import libraries\n",
    "import pyspark as ps\n",
    "from pyspark.sql.functions import *\n",
    "from pyspark.sql.types import *\n",
    "from datetime import *\n",
    "import pandas as pd\n",
    "import json"
   ]
  },
  {
   "cell_type": "code",
   "execution_count": 0,
   "metadata": {
    "application/vnd.databricks.v1+cell": {
     "cellMetadata": {
      "byteLimit": 2048000,
      "rowLimit": 10000
     },
     "inputWidgets": {},
     "nuid": "55de45c7-1ed7-4ae6-a67c-5fc2d733189a",
     "showTitle": false,
     "title": ""
    }
   },
   "outputs": [],
   "source": [
    "class ValidateAccount:\n",
    "  def __init__(self):\n",
    "    self.query = \"Query About to fill\"\n",
    "    self.sql_df = pd.DataFrame()\n",
    "    self.data_json = {\"Data\":[]}    \n",
    "  \n",
    "  def logger(message):\n",
    "    print(message)\n",
    "    \n",
    "  def set_query_string(self):\n",
    "    query = \"\"\"WITH t(usecase_id, hist_retention) AS (SELECT USECASE_ID,hist_retention from com_us_alyt_ngebox.metadata_usecase)\n",
    "update com_us_alyt_ngebox.NGEBox_Suggestion_Requests_Processed  process_table set process_table.Not_Sent_To_Veeva_Reason = (case  when ISNULL(process_table.Not_Sent_To_Veeva_Reason)= true then 'Invalid Account_vod__c Value' else concat(process_table.Not_Sent_To_Veeva_Reason, '|', 'Invalid Account_vod__c Value' ) end)  where account_vod__c not in (select ID from com_us_hub.ref_iengage_account) and CAST(created_date as DATE) >= date_add(current_date, -(select t.hist_retention from t where t.usecase_id = usecase_id)) and SUGGEST_EXTERNAL_ID_VOD__C in (select p.SUGGEST_EXTERNAL_ID_VOD__C from com_us_alyt_ngebox.ngebox_suggestion_requests_processed p left join com_us_lake.rep_suggestion_vod__c s on p.SUGGEST_EXTERNAL_ID_VOD__C = s.SUGGESTION_EXTERNAL_ID_VOD__C where (s.SUGGESTION_EXTERNAL_ID_VOD__C is NULL) or (s.SUGGESTION_EXTERNAL_ID_VOD__C is not null and s.DISMISSED_VOD__C = 0));\"\"\"\n",
    "    self.query = query    \n",
    "\n",
    "  def run_query_and_set_sqldf(self):\n",
    "    query_list = self.query.split(\";\")\n",
    "    self.sql_df = []\n",
    "    for curr_query in query_list:\n",
    "      if curr_query.strip() == \"\":\n",
    "        continue\n",
    "      sql_df = sqlContext.sql(curr_query).collect() # type(sql_df) -> dict\n",
    "      self.sql_df = self.sql_df + sql_df\n",
    "    \n",
    "  def format_sqldf_to_json(self):\n",
    "    sql_output_rowlist = []\n",
    "    for curr_row in self.sql_df: \n",
    "      sql_output_rowlist.append (curr_row.asDict(True))\n",
    "    sql_df_new = pd.DataFrame(sql_output_rowlist)\n",
    "    sql_jsonstr = sql_df_new.to_json(orient=\"records\") # type(result) -> str\n",
    "    sql_jsonparse = json.loads(sql_jsonstr) # type(parsed_json) -> list\n",
    "    nb_json = {\"data\":sql_jsonparse} # type(metadata_json) -> dict\n",
    "    self.nb_json = nb_json\n",
    "    \n",
    "  def construct_microservice_response(self):\n",
    "    resp = {\n",
    "      \"nge_response\": {\n",
    "        \"status\": 200,\n",
    "        \"body\": self.nb_json\n",
    "      }\n",
    "    }\n",
    "    self.response = resp"
   ]
  },
  {
   "cell_type": "code",
   "execution_count": 0,
   "metadata": {
    "application/vnd.databricks.v1+cell": {
     "cellMetadata": {
      "byteLimit": 2048000,
      "rowLimit": 10000
     },
     "inputWidgets": {},
     "nuid": "d13af16a-50c0-465d-bd45-f9a8de9c53d3",
     "showTitle": false,
     "title": ""
    }
   },
   "outputs": [
    {
     "output_type": "display_data",
     "data": {
      "text/plain": [
       "{'nge_response': {'status': 200, 'body': {'data': [{'num_affected_rows': 2}]}}}"
      ]
     },
     "metadata": {
      "application/vnd.databricks.v1+output": {
       "arguments": {},
       "data": "{'nge_response': {'status': 200, 'body': {'data': [{'num_affected_rows': 2}]}}}",
       "metadata": {},
       "type": "exit"
      }
     },
     "output_type": "display_data"
    }
   ],
   "source": [
    "nb_obj = ValidateAccount()\n",
    "nb_obj.set_query_string()\n",
    "nb_obj.run_query_and_set_sqldf()\n",
    "nb_obj.format_sqldf_to_json()\n",
    "nb_obj.construct_microservice_response()\n",
    "dbutils.notebook.exit(\n",
    "  nb_obj.response\n",
    ")"
   ]
  }
 ],
 "metadata": {
  "application/vnd.databricks.v1+notebook": {
   "dashboards": [],
   "language": "python",
   "notebookMetadata": {
    "pythonIndentUnit": 2
   },
   "notebookName": "NGE-BOX-NB-Validate-Account-Microservice",
   "widgets": {}
  }
 },
 "nbformat": 4,
 "nbformat_minor": 0
}
