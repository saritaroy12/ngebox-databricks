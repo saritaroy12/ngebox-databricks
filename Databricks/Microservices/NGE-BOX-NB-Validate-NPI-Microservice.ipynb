{
 "cells": [
  {
   "cell_type": "code",
   "execution_count": 0,
   "metadata": {
    "application/vnd.databricks.v1+cell": {
     "cellMetadata": {
      "byteLimit": 2048000,
      "rowLimit": 10000
     },
     "inputWidgets": {},
     "nuid": "8bf9ecd3-e0b1-4f30-8350-9fa666da495f",
     "showTitle": false,
     "title": ""
    }
   },
   "outputs": [
    {
     "output_type": "display_data",
     "data": {
      "application/vnd.databricks.v1+bamboolib_hint": "{\"pd.DataFrames\": [], \"version\": \"0.0.1\"}",
      "text/plain": []
     },
     "metadata": {},
     "output_type": "display_data"
    }
   ],
   "source": [
    "%python\n",
    "## Import libraries\n",
    "import pyspark as ps\n",
    "from pyspark.sql.functions import *\n",
    "from pyspark.sql.types import *\n",
    "from datetime import *\n",
    "import pandas as pd\n",
    "import json"
   ]
  },
  {
   "cell_type": "code",
   "execution_count": 0,
   "metadata": {
    "application/vnd.databricks.v1+cell": {
     "cellMetadata": {},
     "inputWidgets": {},
     "nuid": "74d9360d-d0ee-45d1-bde7-f04ec93ddc6d",
     "showTitle": false,
     "title": ""
    }
   },
   "outputs": [],
   "source": [
    "# Retrieve the parameter values\n",
    "job_id = dbutils.widgets.get(\"job_id\")\n",
    "usecase_id = dbutils.widgets.get(\"usecase_id\")\n",
    "\n",
    "# Print the parameter values\n",
    "print(f\"job_id: {job_id}\")\n",
    "print(f\"usecase_id: {usecase_id}\")"
   ]
  },
  {
   "cell_type": "code",
   "execution_count": 0,
   "metadata": {
    "application/vnd.databricks.v1+cell": {
     "cellMetadata": {
      "byteLimit": 2048000,
      "rowLimit": 10000
     },
     "inputWidgets": {},
     "nuid": "673de536-a777-4a62-85d8-8d0389ef83ad",
     "showTitle": false,
     "title": ""
    }
   },
   "outputs": [],
   "source": [
    "class ValidateNPI:\n",
    "  def __init__(self):\n",
    "    self.query = \"Query About to fill\"\n",
    "    self.sql_df = pd.DataFrame()\n",
    "    self.data_json = {\"Data\":[]}    \n",
    "    self.usecase_id = None\n",
    "  \n",
    "  def logger(self, message):\n",
    "    print(message)\n",
    "    \n",
    "  def set_query_string(self, usecase_parm):\n",
    "    query = f\"\"\"delete from com_us_alyt_ngebox.NGEBox_Suggestion_Requests_Processed_TEMP_NPI_VALIDATE where usecase_id = '{usecase_parm}';\n",
    "\n",
    "WITH t(usecase_id, hist_retention) AS (\n",
    "  SELECT USECASE_ID, hist_retention\n",
    "  FROM com_us_alyt_ngebox.metadata_usecase\n",
    "  WHERE USECASE_ID = '{usecase_parm}'\n",
    "),\n",
    "s(SUGGEST_EXTERNAL_ID_VOD__C, NGEBox_Record_ID) AS (\n",
    "  SELECT p.SUGGEST_EXTERNAL_ID_VOD__C, p.NGEBox_Record_ID\n",
    "  FROM (select * from com_us_alyt_ngebox.NGEBox_Suggestion_Requests_Processed where usecase_id = '{usecase_parm}') p\n",
    "  LEFT JOIN com_us_lake.rep_suggestion_vod__c s ON p.SUGGEST_EXTERNAL_ID_VOD__C = s.SUGGESTION_EXTERNAL_ID_VOD__C\n",
    "  WHERE (\n",
    "      s.SUGGESTION_EXTERNAL_ID_VOD__C IS NULL\n",
    "      OR (s.SUGGESTION_EXTERNAL_ID_VOD__C IS NOT NULL AND s.DISMISSED_VOD__C = 0)\n",
    "    )\n",
    ")\n",
    "insert into  com_us_alyt_ngebox.NGEBox_Suggestion_Requests_Processed_TEMP_NPI_VALIDATE \n",
    "select * from com_us_alyt_ngebox.NGEBox_Suggestion_Requests_Processed \n",
    "WHERE case when '{usecase_parm}' IN ('513','514') then (usecase_id = '{usecase_parm}' AND CAST(created_date AS DATE) = current_date) \n",
    "  else (usecase_id = '{usecase_parm}' AND CAST(created_date AS DATE) >= date_add(current_date, -(SELECT hist_retention FROM t)) AND SUGGEST_EXTERNAL_ID_VOD__C IN (SELECT SUGGEST_EXTERNAL_ID_VOD__C FROM s)) end; \n",
    "\n",
    "with x(NGEBOX_RECORD_ID) AS (select distinct NGEBOX_RECORD_ID from\n",
    "( select * from com_us_alyt_ngebox.NGEBox_Suggestion_Requests_Processed_TEMP_NPI_VALIDATE where USECASE_ID = '{usecase_parm}') p\n",
    "left join com_us_hub.ref_cust_xref x_iengage on p.HCP_OMNI_ID = x_iengage.omni_id and x_iengage.src_system = 'iEngage'\n",
    "left join com_us_hub.ref_cust_xref x_KOMO on p.HCP_OMNI_ID = x_KOMO.omni_id and x_KOMO.src_system = 'KOMO'\n",
    "inner join com_us_hub.ref_cust_identifier as ci on p.hcp_omni_id = ci.omni_id and p.hcp_npi = ci.identifier and ci.identifier_typ = 'NPI' and ci.scd_curr_ind = 'Y'\n",
    "where (case when '{usecase_parm}' in (514) then ((x_iengage.omni_id is not NULL OR  x_KOMO.omni_id is not null ) AND\n",
    " case when x_iengage.omni_id is not NULL and  x_KOMO.omni_id is not null then (x_iengage.omni_id = ci.omni_id and  x_KOMO.omni_id = ci.omni_id  and x_iengage.src_id = p.account_vod__c and x_KOMO.src_id = p.HCP_NPI)\n",
    " when x_iengage.omni_id is not NULL then (x_iengage.omni_id = ci.omni_id and x_iengage.src_id = p.account_vod__c) \n",
    " when x_KOMO.omni_id is not null then (x_KOMO.omni_id = ci.omni_id and x_KOMO.src_id = p.HCP_NPI) end)\n",
    " else (x_iengage.src_system ='iEngage'  and x_iengage.omni_id = ci.omni_id  and  x_iengage.src_id = p.account_vod__c )end)),\n",
    "y(NGEBOX_RECORD_ID) AS (\n",
    "  SELECT p.NGEBOX_RECORD_ID FROM com_us_alyt_ngebox.NGEBox_Suggestion_Requests_Processed_TEMP_NPI_VALIDATE p WHERE p.NGEBOX_RECORD_ID NOT IN (\n",
    "    SELECT DISTINCT x.NGEBOX_RECORD_ID FROM x\n",
    "  )\n",
    ")\n",
    "MERGE INTO com_us_alyt_ngebox.NGEBox_Suggestion_Requests_Processed   AS t\n",
    "USING y AS y\n",
    "ON (t.NGEBOX_RECORD_ID = y.NGEBOX_RECORD_ID and t.usecase_id = '{usecase_parm}' AND length(t.hcp_npi) > 0)\n",
    "WHEN MATCHED THEN\n",
    "  UPDATE SET  t.Not_Sent_To_Veeva_Reason = (case  when ISNULL(t.Not_Sent_To_Veeva_Reason)= true then 'Invalid NPI Value' else concat(t.Not_Sent_To_Veeva_Reason, '|', 'Invalid NPI Value' ) end); \"\"\"\n",
    "    self.query = query    \n",
    "    \n",
    "  def run_query_and_set_sqldf(self, usecase_id):\n",
    "      self.usecase_id = usecase_id\n",
    "      query_list = self.query.split(\";\")\n",
    "      self.sql_df = []  \n",
    "      for curr_query in query_list:\n",
    "          if curr_query.strip() == \"\":\n",
    "              continue\n",
    "          curr_query_with_param = curr_query.replace(\"Usecase_parm\", usecase_id)\n",
    "          sql_df = sqlContext.sql(curr_query_with_param).collect()\n",
    "          self.sql_df.extend(sql_df)\n",
    "    \n",
    "  def format_sqldf_to_json(self):\n",
    "    sql_output_rowlist = []\n",
    "    for curr_row in self.sql_df: \n",
    "      sql_output_rowlist.append (curr_row.asDict(True))\n",
    "    sql_df_new = pd.DataFrame(sql_output_rowlist)\n",
    "    sql_jsonstr = sql_df_new.to_json(orient=\"records\") # type(result) -> str\n",
    "    sql_jsonparse = json.loads(sql_jsonstr) # type(parsed_json) -> list\n",
    "    nb_json = {\"data\":sql_jsonparse} # type(metadata_json) -> dict\n",
    "    self.nb_json = nb_json\n",
    "    \n",
    "  def construct_microservice_response(self):\n",
    "    resp = {\n",
    "      \"nge_response\": {\n",
    "        \"status\": 200,\n",
    "        \"body\": self.nb_json\n",
    "      }\n",
    "    }\n",
    "    self.response = resp"
   ]
  },
  {
   "cell_type": "code",
   "execution_count": 0,
   "metadata": {
    "application/vnd.databricks.v1+cell": {
     "cellMetadata": {
      "byteLimit": 2048000,
      "rowLimit": 10000
     },
     "inputWidgets": {},
     "nuid": "acfac5de-c202-463b-bccc-b0099874e94a",
     "showTitle": false,
     "title": ""
    }
   },
   "outputs": [],
   "source": [
    "usecase_id = dbutils.widgets.get(\"usecase_id\")\n",
    "nb_obj = ValidateNPI()\n",
    "nb_obj.set_query_string(usecase_parm=usecase_id)\n",
    "nb_obj.run_query_and_set_sqldf(usecase_id=usecase_id)\n",
    "nb_obj.format_sqldf_to_json()\n",
    "nb_obj.construct_microservice_response()\n",
    "dbutils.notebook.exit(nb_obj.response)"
   ]
  }
 ],
 "metadata": {
  "application/vnd.databricks.v1+notebook": {
   "dashboards": [],
   "language": "python",
   "notebookMetadata": {
    "pythonIndentUnit": 4
   },
   "notebookName": "NGE-BOX-NB-Validate-NPI-Microservice",
   "widgets": {}
  }
 },
 "nbformat": 4,
 "nbformat_minor": 0
}
