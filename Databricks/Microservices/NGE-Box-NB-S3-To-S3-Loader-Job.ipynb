{
 "cells": [
  {
   "cell_type": "code",
   "execution_count": 0,
   "metadata": {
    "application/vnd.databricks.v1+cell": {
     "cellMetadata": {
      "byteLimit": 2048000,
      "rowLimit": 10000
     },
     "inputWidgets": {},
     "nuid": "b2e63b85-e943-448d-837f-f134b5d2bd24",
     "showTitle": false,
     "title": ""
    }
   },
   "outputs": [],
   "source": [
    "%python\n",
    "import boto3\n",
    "import pyspark as ps\n",
    "from pyspark.sql.functions import *\n",
    "from pyspark.sql.types import *"
   ]
  },
  {
   "cell_type": "code",
   "execution_count": 0,
   "metadata": {
    "application/vnd.databricks.v1+cell": {
     "cellMetadata": {},
     "inputWidgets": {},
     "nuid": "33dd5adb-3321-4fe3-ae10-2086cf81c5b2",
     "showTitle": false,
     "title": ""
    }
   },
   "outputs": [],
   "source": [
    "# Retrieve the parameter values\n",
    "job_id = dbutils.widgets.get(\"job_id\")\n",
    "usecase_id = dbutils.widgets.get(\"usecase_id\")\n",
    "\n",
    "# Print the parameter values\n",
    "print(f\"job_id: {job_id}\")\n",
    "print(f\"usecase_id: {usecase_id}\")"
   ]
  },
  {
   "cell_type": "code",
   "execution_count": 0,
   "metadata": {
    "application/vnd.databricks.v1+cell": {
     "cellMetadata": {
      "byteLimit": 2048000,
      "rowLimit": 10000
     },
     "inputWidgets": {},
     "nuid": "e142eeaa-7548-4b3d-9d0d-1e2c32b580a7",
     "showTitle": false,
     "title": ""
    }
   },
   "outputs": [
    {
     "output_type": "stream",
     "name": "stdout",
     "output_type": "stream",
     "text": [
      "File NGE_Box/IN_N_OUT/OUT/RD/IENGAGE_PUBLISH/Takhzyro_Leads_Labs/STG/ copied to tpc-aws-ted-dev-iics-edpp-mount-usvga/amer_veeva/SrcFiles/iengage/data/current/\nFile NGE_Box/IN_N_OUT/OUT/RD/IENGAGE_PUBLISH/Takhzyro_Leads_Labs/STG/Veeva_Suggestion_File_Takhzyro_Leads_labs_20230623_105046.csv copied to tpc-aws-ted-dev-iics-edpp-mount-usvga/amer_veeva/SrcFiles/iengage/data/current/Veeva_Suggestion_File_Takhzyro_Leads_labs_20230623_105046.csv\n"
     ]
    }
   ],
   "source": [
    "# get s3 params from metadata table \n",
    "s3_query = f\"SELECT s3_bucket_name,s3_veeva_bucket_name,s3_STG_path,s3_veeva_path from com_us_alyt_ngebox.metadata_usecase where USECASE_ID = '{usecase_id}'\"\n",
    "s3_source_bucket_df = sqlContext.sql(s3_query).collect()[0]['s3_bucket_name']\n",
    "s3_destination_bucket_df = sqlContext.sql(s3_query).collect()[0]['s3_veeva_bucket_name']\n",
    "s3_source_path_df = sqlContext.sql(s3_query).collect()[0]['s3_STG_path']\n",
    "s3_destination_path_df = sqlContext.sql(s3_query).collect()[0]['s3_veeva_path']\n",
    "\n",
    "# assign the result dataframe to source and destination variable\n",
    "source_bucket = s3_source_bucket_df\n",
    "destination_bucket = s3_destination_bucket_df\n",
    "source_path = s3_source_path_df\n",
    "destination_path = s3_destination_path_df\n",
    "\n",
    "# Create a Boto3 S3 client\n",
    "s3_client = boto3.client('s3')\n",
    "# List objects in the source path\n",
    "response = s3_client.list_objects_v2(Bucket=source_bucket, Prefix=source_path)\n",
    "# Copy files from the source path to the destination path\n",
    "for obj in response['Contents']:\n",
    "    key = obj['Key']\n",
    "    destination_key = key.replace(source_path, destination_path)\n",
    "    s3_client.copy_object(\n",
    "        CopySource={'Bucket': source_bucket, 'Key': key},\n",
    "        Bucket=destination_bucket,\n",
    "        Key=destination_key\n",
    "    )\n",
    "    print(f\"File {key} copied to {destination_bucket}/{destination_key}\")"
   ]
  },
  {
   "cell_type": "code",
   "execution_count": 0,
   "metadata": {
    "application/vnd.databricks.v1+cell": {
     "cellMetadata": {
      "byteLimit": 2048000,
      "rowLimit": 10000
     },
     "inputWidgets": {},
     "nuid": "f4ad23f0-eebf-4cdf-80c5-0784daa9b45a",
     "showTitle": false,
     "title": ""
    }
   },
   "outputs": [],
   "source": [
    "class s3Push:\n",
    "   def construct_microservice_response(self):\n",
    "    resp = {\n",
    "      \"nge_response\": {\n",
    "        \"status\": 200,\n",
    "        \"body\": \"S3 file succesfully loaded to the destination path\"\n",
    "      }\n",
    "    }\n",
    "    self.response = resp   "
   ]
  },
  {
   "cell_type": "code",
   "execution_count": 0,
   "metadata": {
    "application/vnd.databricks.v1+cell": {
     "cellMetadata": {
      "byteLimit": 2048000,
      "rowLimit": 10000
     },
     "inputWidgets": {},
     "nuid": "4558de7f-7533-487a-af58-ae3daeac2726",
     "showTitle": false,
     "title": ""
    }
   },
   "outputs": [
    {
     "output_type": "display_data",
     "data": {
      "text/plain": [
       "{'nge_response': {'status': 200, 'body': 'S3 file succesfully loaded to the destination path'}}"
      ]
     },
     "metadata": {
      "application/vnd.databricks.v1+output": {
       "arguments": {},
       "data": "{'nge_response': {'status': 200, 'body': 'S3 file succesfully loaded to the destination path'}}",
       "metadata": {},
       "type": "exit"
      }
     },
     "output_type": "display_data"
    }
   ],
   "source": [
    "metadata_obj = s3Push()\n",
    "metadata_obj.construct_microservice_response()\n",
    "dbutils.notebook.exit(\n",
    "  metadata_obj.response\n",
    ")"
   ]
  }
 ],
 "metadata": {
  "application/vnd.databricks.v1+notebook": {
   "dashboards": [],
   "language": "python",
   "notebookMetadata": {
    "pythonIndentUnit": 4
   },
   "notebookName": "NGE-Box-NB-S3-To-S3-Loader-Job",
   "widgets": {}
  }
 },
 "nbformat": 4,
 "nbformat_minor": 0
}
