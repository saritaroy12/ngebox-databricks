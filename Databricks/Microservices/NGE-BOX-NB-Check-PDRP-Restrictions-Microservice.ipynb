{
 "cells": [
  {
   "cell_type": "code",
   "execution_count": 0,
   "metadata": {
    "application/vnd.databricks.v1+cell": {
     "cellMetadata": {
      "byteLimit": 2048000,
      "rowLimit": 10000
     },
     "inputWidgets": {},
     "nuid": "3b2899f6-2250-49a5-b870-db7ebfbc7f60",
     "showTitle": false,
     "title": ""
    }
   },
   "outputs": [
    {
     "output_type": "display_data",
     "data": {
      "application/vnd.databricks.v1+bamboolib_hint": "{\"pd.DataFrames\": [], \"version\": \"0.0.1\"}",
      "text/plain": []
     },
     "metadata": {},
     "output_type": "display_data"
    }
   ],
   "source": [
    "%python\n",
    "## Import libraries\n",
    "import pyspark as ps\n",
    "from pyspark.sql.functions import *\n",
    "from pyspark.sql.types import *\n",
    "from datetime import *\n",
    "import pandas as pd\n",
    "import json"
   ]
  },
  {
   "cell_type": "code",
   "execution_count": 0,
   "metadata": {
    "application/vnd.databricks.v1+cell": {
     "cellMetadata": {},
     "inputWidgets": {},
     "nuid": "7c43f9b9-ffc1-4b79-aa5c-bfd57753aab4",
     "showTitle": false,
     "title": ""
    }
   },
   "outputs": [],
   "source": [
    "# Retrieve the parameter values\n",
    "job_id = dbutils.widgets.get(\"job_id\")\n",
    "usecase_id = dbutils.widgets.get(\"usecase_id\")\n",
    "\n",
    "# Print the parameter values\n",
    "print(f\"job_id: {job_id}\")\n",
    "print(f\"usecase_id: {usecase_id}\")"
   ]
  },
  {
   "cell_type": "code",
   "execution_count": 0,
   "metadata": {
    "application/vnd.databricks.v1+cell": {
     "cellMetadata": {
      "byteLimit": 2048000,
      "rowLimit": 10000
     },
     "inputWidgets": {},
     "nuid": "ad39cde6-44a6-41a9-9ada-2f7cdff45802",
     "showTitle": false,
     "title": ""
    }
   },
   "outputs": [],
   "source": [
    "class Check_TKD:\n",
    "  def __init__(self):\n",
    "    self.query = \"Query About to fill\"\n",
    "    self.sql_df = pd.DataFrame()\n",
    "    self.data_json = {\"Data\":[]}    \n",
    "    self.usecase_id = None\n",
    "  \n",
    "  def logger(self, message):\n",
    "    print(message)\n",
    "    \n",
    "  def set_query_string(self, usecase_parm):\n",
    "    query = f\"\"\"MERGE INTO com_us_alyt_ngebox.NGEBox_Suggestion_Requests_Processed process_table \n",
    "USING (select tb1.usecase_id,tb1.NGEBOX_RECORD_ID,tb2.id, tb1.suggest_external_id_vod__c,tb4.hist_retention from (select * from com_us_alyt_ngebox.NGEBox_Suggestion_Requests_Processed where usecase_id = '{usecase_parm}') tb1\n",
    "inner join com_us_alyt_omnichannel.ib_ilay_rep_account tb2 \n",
    "on tb1.account_vod__c = tb2.id and tb2.TKD_SANCTIONED__C = 1 \n",
    "left join com_us_lake.rep_suggestion_vod__c tb3 \n",
    "on tb3.SUGGESTION_EXTERNAL_ID_VOD__C = tb1.suggest_external_id_vod__c\n",
    "inner join com_us_alyt_ngebox.metadata_usecase tb4 \n",
    "on tb1.usecase_id = tb4.usecase_id\n",
    "where ((tb3.SUGGESTION_EXTERNAL_ID_VOD__C is NULL) \n",
    "or (tb3.SUGGESTION_EXTERNAL_ID_VOD__C is not null and tb3.DISMISSED_VOD__C = 0))) source_table \n",
    "ON (process_table.usecase_id = '{usecase_parm}' and process_table.usecase_id = source_table.usecase_id and process_table.account_vod__c = source_table.id and process_table.NGEBOX_RECORD_ID = source_table.NGEBOX_RECORD_ID and process_table.suggest_external_id_vod__c = source_table.suggest_external_id_vod__c and  CAST(process_table.created_date as DATE) >= date_add(current_date,-source_table.hist_retention))\n",
    "WHEN MATCHED THEN\n",
    "UPDATE SET process_table.TKD_Sanction_Flag = 1,\n",
    "process_table.Not_Sent_To_Veeva_Reason = case  when ISNULL(process_table.Not_Sent_To_Veeva_Reason)= true then 'Record cannot be loaded due to TKD Sanctions' else concat(Not_Sent_To_Veeva_Reason, '|', 'Record cannot be loaded due to TKD Sanctions' ) end;\"\"\"\n",
    "    self.query = query    \n",
    "\n",
    "  def run_query_and_set_sqldf(self, usecase_id):\n",
    "      self.usecase_id = usecase_id\n",
    "      query_list = self.query.split(\";\")\n",
    "      self.sql_df = []  \n",
    "      for curr_query in query_list:\n",
    "          if curr_query.strip() == \"\":\n",
    "              continue\n",
    "          curr_query_with_param = curr_query.replace(\"Usecase_parm\", usecase_id)\n",
    "          sql_df = sqlContext.sql(curr_query_with_param).collect()\n",
    "          self.sql_df.extend(sql_df)\n",
    "    \n",
    "  def format_sqldf_to_json(self):\n",
    "    sql_output_rowlist = []\n",
    "    for curr_row in self.sql_df: \n",
    "      sql_output_rowlist.append (curr_row.asDict(True))\n",
    "    sql_df_new = pd.DataFrame(sql_output_rowlist)\n",
    "    sql_jsonstr = sql_df_new.to_json(orient=\"records\") # type(result) -> str\n",
    "    sql_jsonparse = json.loads(sql_jsonstr) # type(parsed_json) -> list\n",
    "    nb_json = {\"data\":sql_jsonparse} # type(metadata_json) -> dict\n",
    "    self.nb_json = nb_json\n",
    "    \n",
    "  def construct_microservice_response(self):\n",
    "    resp = {\n",
    "      \"nge_response\": {\n",
    "        \"status\": 200,\n",
    "        \"body\": self.nb_json\n",
    "      }\n",
    "    }\n",
    "    self.response = resp"
   ]
  },
  {
   "cell_type": "code",
   "execution_count": 0,
   "metadata": {
    "application/vnd.databricks.v1+cell": {
     "cellMetadata": {
      "byteLimit": 2048000,
      "rowLimit": 10000
     },
     "inputWidgets": {},
     "nuid": "b6f82fd2-e303-4ef9-a912-7168623fd450",
     "showTitle": false,
     "title": ""
    }
   },
   "outputs": [],
   "source": [
    "usecase_id = dbutils.widgets.get(\"usecase_id\")\n",
    "nb_obj = Check_TKD()\n",
    "nb_obj.set_query_string(usecase_parm=usecase_id)\n",
    "nb_obj.run_query_and_set_sqldf(usecase_id=usecase_id)\n",
    "nb_obj.format_sqldf_to_json()\n",
    "nb_obj.construct_microservice_response()\n",
    "dbutils.notebook.exit(nb_obj.response)"
   ]
  }
 ],
 "metadata": {
  "application/vnd.databricks.v1+notebook": {
   "dashboards": [],
   "language": "python",
   "notebookMetadata": {
    "pythonIndentUnit": 4
   },
   "notebookName": "NGE-BOX-NB-Check-TKD-Sanction-Microservice",
   "widgets": {}
  }
 },
 "nbformat": 4,
 "nbformat_minor": 0
}
