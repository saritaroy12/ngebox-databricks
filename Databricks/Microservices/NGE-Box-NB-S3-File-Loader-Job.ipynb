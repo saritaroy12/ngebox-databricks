{
 "cells": [
  {
   "cell_type": "code",
   "execution_count": 0,
   "metadata": {
    "application/vnd.databricks.v1+cell": {
     "cellMetadata": {
      "byteLimit": 2048000,
      "rowLimit": 10000
     },
     "inputWidgets": {},
     "nuid": "7f4644c3-38fe-42cd-87d1-4088aecbc697",
     "showTitle": false,
     "title": ""
    }
   },
   "outputs": [
    {
     "output_type": "display_data",
     "data": {
      "application/vnd.databricks.v1+bamboolib_hint": "{\"pd.DataFrames\": [], \"version\": \"0.0.1\"}",
      "text/plain": []
     },
     "metadata": {},
     "output_type": "display_data"
    }
   ],
   "source": [
    "%python\n",
    "## Import libraries\n",
    "import pyspark as ps\n",
    "from pyspark.sql.functions import *\n",
    "from pyspark.sql.types import *\n",
    "import os\n",
    "import boto3\n",
    "import datetime\n",
    "import pandas as pd"
   ]
  },
  {
   "cell_type": "code",
   "execution_count": 0,
   "metadata": {
    "application/vnd.databricks.v1+cell": {
     "cellMetadata": {
      "byteLimit": 2048000,
      "rowLimit": 10000
     },
     "inputWidgets": {},
     "nuid": "ab8deb8b-7ca8-47d3-93f6-8aa4dbfaaf22",
     "showTitle": false,
     "title": ""
    }
   },
   "outputs": [],
   "source": [
    "#convert sucess sql qyery to dataframe\n",
    "Takhzyro_success_query = \"select * from com_us_alyt_ngebox.NGEBox_Suggestion_Requests_Processed where Sent_To_Veeva = current_date and Not_Sent_To_Veeva_Reason is NULL and usecase_id = '511';\"\n",
    "Takhzyro_success_query_df = sqlContext.sql(Takhzyro_success_query).collect()\n",
    "Takhzyro_success_list = []\n",
    "for curr_row in Takhzyro_success_query_df: \n",
    "  Takhzyro_success_list.append (curr_row.asDict(True))\n",
    "Takhzyro_success_df = pd.DataFrame(Takhzyro_success_list)\n",
    "\n",
    "#convert Error sql qyery to dataframe\n",
    "Takhzyro_error_query = \"WITH t(usecase_id, hist_retention) AS (SELECT USECASE_ID,hist_retention from com_us_alyt_ngebox.metadata_usecase) select * from com_us_alyt_ngebox.NGEBox_Suggestion_Requests_Processed where DATE(created_date) >=  date_add(current_date, -(select hist_retention from t where t.usecase_id = usecase_id )) and Sent_To_Veeva is null and processed = 1 and Not_Sent_To_Veeva_Reason is not null and usecase_id = '511'\"\n",
    "Takhzyro_error_query_df = sqlContext.sql(Takhzyro_error_query).collect()\n",
    "Takhzyro_error_list = []\n",
    "for curr_row in Takhzyro_error_query_df: \n",
    "  Takhzyro_error_list.append (curr_row.asDict(True))\n",
    "Takhzyro_error_df = pd.DataFrame(Takhzyro_error_list)"
   ]
  },
  {
   "cell_type": "code",
   "execution_count": 0,
   "metadata": {
    "application/vnd.databricks.v1+cell": {
     "cellMetadata": {
      "byteLimit": 2048000,
      "rowLimit": 10000
     },
     "inputWidgets": {},
     "nuid": "e2c77d69-b3ae-4be2-837b-3cdbb9663dc4",
     "showTitle": false,
     "title": ""
    }
   },
   "outputs": [
    {
     "output_type": "stream",
     "name": "stdout",
     "output_type": "stream",
     "text": [
      "Deleted object: NGE_Box/IN_N_OUT/OUT/RD/IENGAGE_PUBLISH/Takhzyro_Leads_Labs/STG/Veeva_Suggestion_File_Takhzyro_Leads_labs_20230512_113725.csv\nOut[3]: {'ResponseMetadata': {'RequestId': 'T3CJ8YD6T944ZQW8',\n  'HostId': 'jd9/UX+kxb0+IcOvEetizNPj+h0XL6TV3V4X3RgR2pl5MnW+o/Er1v+QXPA8OUpPHDwHVj/r+Is=',\n  'HTTPStatusCode': 200,\n  'HTTPHeaders': {'x-amz-id-2': 'jd9/UX+kxb0+IcOvEetizNPj+h0XL6TV3V4X3RgR2pl5MnW+o/Er1v+QXPA8OUpPHDwHVj/r+Is=',\n   'x-amz-request-id': 'T3CJ8YD6T944ZQW8',\n   'date': 'Sat, 13 May 2023 16:48:27 GMT',\n   'x-amz-version-id': 'z.Q._wB0RhZ0Cab20F5iCNC57pMOIpM.',\n   'x-amz-server-side-encryption': 'aws:kms',\n   'x-amz-server-side-encryption-aws-kms-key-id': 'arn:aws:kms:us-east-1:263789222982:key/253920df-b84a-47ca-a26e-ace8b712a886',\n   'etag': '\"9b994d3f6cd9b21d00dc4722b4d680b4\"',\n   'server': 'AmazonS3',\n   'content-length': '0'},\n  'RetryAttempts': 0},\n 'ETag': '\"9b994d3f6cd9b21d00dc4722b4d680b4\"',\n 'ServerSideEncryption': 'aws:kms',\n 'VersionId': 'z.Q._wB0RhZ0Cab20F5iCNC57pMOIpM.',\n 'SSEKMSKeyId': 'arn:aws:kms:us-east-1:263789222982:key/253920df-b84a-47ca-a26e-ace8b712a886'}"
     ]
    }
   ],
   "source": [
    "# Set the S3 bucket and folder path\n",
    "s3_bucket = 'tpc-aws-ted-dev-edpp-alyt-com-us-east-1'\n",
    "Takhzyro_s3_folder_path_arc = 'NGE_Box/IN_N_OUT/OUT/RD/IENGAGE_PUBLISH/Takhzyro_Leads_Labs/ARCHIVE/'\n",
    "Takhzyro_s3_folder_path_STG = 'NGE_Box/IN_N_OUT/OUT/RD/IENGAGE_PUBLISH/Takhzyro_Leads_Labs/STG/'\n",
    "\n",
    "# Get the current date and time\n",
    "folder_name = datetime.datetime.now().strftime(\"%Y-%m-%d\")\n",
    "\n",
    "# Create the S3 client\n",
    "s3_client = boto3.client('s3')\n",
    "\n",
    "# Create the CSV file name using the current date\n",
    "now = datetime.datetime.now().strftime(\"%Y%m%d_%H%M%S\")\n",
    "Takhzyro_success_csv_file_name = f'Veeva_Suggestion_File_Takhzyro_Leads_labs_{now}.csv'\n",
    "Takhzyro_error_csv_file_name = f'Error_Veeva_Suggestion_File_Takhzyro_Leads_labs_{now}.csv'\n",
    "\n",
    "# Convert the DataFrame to CSV data\n",
    "Takhzyro_success_csv_data = Takhzyro_success_df.to_csv(index=False)\n",
    "Takhzyro_error_csv_data = Takhzyro_error_df.to_csv(index=False)\n",
    "\n",
    "# Write the dynamic CSV file to the S3 bucket folder for success and error files\n",
    "s3_client.put_object(Bucket=s3_bucket, Key=Takhzyro_s3_folder_path_arc + folder_name + '/' + Takhzyro_success_csv_file_name, Body=Takhzyro_success_csv_data)\n",
    "s3_client.put_object(Bucket=s3_bucket, Key=Takhzyro_s3_folder_path_arc + folder_name + '/' + Takhzyro_error_csv_file_name, Body=Takhzyro_error_csv_data)\n",
    "\n",
    "# Remove the existing CSV files in the STG path\n",
    "response = s3_client.list_objects_v2(Bucket=s3_bucket, Prefix=Takhzyro_s3_folder_path_STG)\n",
    "for obj in response.get('Contents', []):\n",
    "    if obj['Key'].endswith('.csv'):\n",
    "        s3_client.delete_object(Bucket=s3_bucket, Key=obj['Key'])\n",
    "        print(f\"Deleted object: {obj['Key']}\")\n",
    "\n",
    "# Copy the new CSV file to the STG path\n",
    "s3_client.put_object(Bucket=s3_bucket, Key=Takhzyro_s3_folder_path_STG + Takhzyro_success_csv_file_name, Body=Takhzyro_success_csv_data)"
   ]
  },
  {
   "cell_type": "code",
   "execution_count": 0,
   "metadata": {
    "application/vnd.databricks.v1+cell": {
     "cellMetadata": {
      "byteLimit": 2048000,
      "rowLimit": 10000
     },
     "inputWidgets": {},
     "nuid": "2005047b-011e-4a73-8095-0f4375db9b54",
     "showTitle": false,
     "title": ""
    }
   },
   "outputs": [],
   "source": [
    "class GetNgeMetadata:\n",
    "   def construct_microservice_response(self):\n",
    "    resp = {\n",
    "      \"nge_response\": {\n",
    "        \"status\": 200,\n",
    "        \"body\": \"s3 file load completed\"\n",
    "      }\n",
    "    }\n",
    "    self.response = resp"
   ]
  },
  {
   "cell_type": "code",
   "execution_count": 0,
   "metadata": {
    "application/vnd.databricks.v1+cell": {
     "cellMetadata": {
      "byteLimit": 2048000,
      "rowLimit": 10000
     },
     "inputWidgets": {},
     "nuid": "39b956ef-1da7-431e-b3f5-3ec6a94abf83",
     "showTitle": false,
     "title": ""
    }
   },
   "outputs": [
    {
     "output_type": "display_data",
     "data": {
      "text/plain": [
       "{'nge_response': {'status': 200, 'body': 's3 file load completed'}}"
      ]
     },
     "metadata": {
      "application/vnd.databricks.v1+output": {
       "arguments": {},
       "data": "{'nge_response': {'status': 200, 'body': 's3 file load completed'}}",
       "metadata": {},
       "type": "exit"
      }
     },
     "output_type": "display_data"
    }
   ],
   "source": [
    "metadata_obj = GetNgeMetadata()\n",
    "metadata_obj.construct_microservice_response()\n",
    "dbutils.notebook.exit(\n",
    "  metadata_obj.response\n",
    ")"
   ]
  }
 ],
 "metadata": {
  "application/vnd.databricks.v1+notebook": {
   "dashboards": [],
   "language": "python",
   "notebookMetadata": {
    "pythonIndentUnit": 4
   },
   "notebookName": "NGE-Box-NB-S3-File-Loader-Job",
   "widgets": {}
  }
 },
 "nbformat": 4,
 "nbformat_minor": 0
}
