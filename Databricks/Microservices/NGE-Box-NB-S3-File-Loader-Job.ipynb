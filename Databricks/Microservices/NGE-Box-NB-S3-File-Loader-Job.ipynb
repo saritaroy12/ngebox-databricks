{
 "cells": [
  {
   "cell_type": "code",
   "execution_count": 0,
   "metadata": {
    "application/vnd.databricks.v1+cell": {
     "cellMetadata": {
      "byteLimit": 2048000,
      "rowLimit": 10000
     },
     "inputWidgets": {},
     "nuid": "7f4644c3-38fe-42cd-87d1-4088aecbc697",
     "showTitle": false,
     "title": ""
    }
   },
   "outputs": [],
   "source": [
    "%python\n",
    "## Import libraries\n",
    "import pyspark as ps\n",
    "from pyspark.sql.functions import *\n",
    "from pyspark.sql.types import *\n",
    "import os\n",
    "import boto3\n",
    "import datetime\n",
    "import pandas as pd"
   ]
  },
  {
   "cell_type": "code",
   "execution_count": 0,
   "metadata": {
    "application/vnd.databricks.v1+cell": {
     "cellMetadata": {},
     "inputWidgets": {},
     "nuid": "63ad2471-b594-4cc6-9a6f-5ebf7d281d53",
     "showTitle": false,
     "title": ""
    }
   },
   "outputs": [],
   "source": [
    "# Retrieve the parameter values\n",
    "job_id = dbutils.widgets.get(\"job_id\")\n",
    "usecase_id = dbutils.widgets.get(\"usecase_id\")\n",
    "\n",
    "# Print the parameter values\n",
    "print(f\"job_id: {job_id}\")\n",
    "print(f\"usecase_id: {usecase_id}\")"
   ]
  },
  {
   "cell_type": "code",
   "execution_count": 0,
   "metadata": {
    "application/vnd.databricks.v1+cell": {
     "cellMetadata": {
      "byteLimit": 2048000,
      "rowLimit": 10000
     },
     "inputWidgets": {},
     "nuid": "ab8deb8b-7ca8-47d3-93f6-8aa4dbfaaf22",
     "showTitle": false,
     "title": ""
    }
   },
   "outputs": [],
   "source": [
    "#convert sucess sql qyery to dataframe\n",
    "success_query = f\"select external_id::string as external_id,account_priority_score_vod__c::int as account_priority_score_vod__c,account_vod__c::string\tas \taccount_vod__c,actioned_vod__c::string\tas \tactioned_vod__c,action_count_vod__c::string\tas \taction_count_vod__c,call_objective_clm_id_vod__c::string\tas \tcall_objective_clm_id_vod__c,date_format(call_objective_from_date_vod__c,'MM/dd/yyyy') as call_objective_from_date_vod__c,call_obj_on_by_default_vod__c::string\tas \tcall_obj_on_by_default_vod__c,call_obj_record_type_vod__c::string\tas \tcall_obj_record_type_vod__c,date_format(call_objective_to_date_vod__c,'MM/dd/yyyy') as call_objective_to_date_vod__c,dismissed_vod__c::string\tas \tdismissed_vod__c,dismiss_count_vod__c::string\tas \tdismiss_count_vod__c,display_dismiss_vod__c::string\tas \tdisplay_dismiss_vod__c,display_mark_as_complete_vod__c::string\tas \tdisplay_mark_as_complete_vod__c,display_score_vod__c::string\tas \tdisplay_score_vod__c,email_template_id_vod__c::string\tas \temail_template_id_vod__c,email_template_vault_id_vod__c::string\tas \temail_template_vault_id_vod__c,email_template_vod__c::string\tas \temail_template_vod__c,date_format(expiration_date_vod__c,'MM/dd/yyyy') as expiration_date_vod__c ,marked_as_complete_vod__c::string\tas \tmarked_as_complete_vod__c,mark_complete_count_vod__c::string\tas \tmark_complete_count_vod__c,no_homepage_vod__c::string\tas \tno_homepage_vod__c,date_format(planned_call_date_vod__c,'MM/dd/yyyy') as planned_call_date_vod__c ,date_format(posted_date_vod__c,'MM/dd/yyyy') as posted_date_vod__c,priority_vod__c::string\tas \tpriority_vod__c,reason_vod__c::string\tas \treason_vod__c,recordtypeid_suggestion::string\tas \trecordtypeid_suggestion,record_type_name_vod__c_suggest::string\tas \trecord_type_name_vod__c_suggest,suggest_external_id_vod__c::string\tas \tsuggest_external_id_vod__c,suppress_reason_vod__c::string\tas \tsuppress_reason_vod__c,title_vod__c::string\tas \ttitle_vod__c,ownerid::string\tas \townerid,detail_group_vod__c::string\tas \tdetail_group_vod__c,driver_vod__c::string\tas \tdriver_vod__c,email_fragment_order_vod__c::string\tas \temail_fragment_order_vod__c,email_fragment_vod__c::string\tas \temail_fragment_vod__c,suggest_tag_external_id_vod__c::string\tas \tsuggest_tag_external_id_vod__c,product_vod__c::string\tas \tproduct_vod__c,record_type_name_vod__c_sug_tag::string\tas \trecord_type_name_vod__c_sug_tag,recordtypeid_suggestion_tag::string\tas \trecordtypeid_suggestion_tag,analytics_title::string\tas \tanalytics_title,suggestion_survey_vod__c::string\tas \tsuggestion_survey_vod__c,Lead_Id::string\tas \tLead_Id from com_us_alyt_ngebox.NGEBox_Suggestion_Requests_Processed where Sent_To_Veeva = current_date and Not_Sent_To_Veeva_Reason is NULL and usecase_id = '{usecase_id}';\"\n",
    "success_query_df = sqlContext.sql(success_query).collect()\n",
    "# Define the column headers\n",
    "headers_sucess = ['external_id', 'account_priority_score_vod__c', 'account_vod__c','actioned_vod__c','action_count_vod__c','call_objective_clm_id_vod__c','call_objective_from_date_vod__c','call_obj_on_by_default_vod__c','call_obj_record_type_vod__c','call_objective_to_date_vod__c','dismissed_vod__c','dismiss_count_vod__c','display_dismiss_vod__c','display_mark_as_complete_vod__c','display_score_vod__c','email_template_id_vod__c','email_template_vault_id_vod__c','email_template_vod__c','expiration_date_vod__c','marked_as_complete_vod__c','mark_complete_count_vod__c','no_homepage_vod__c','planned_call_date_vod__c','posted_date_vod__c','priority_vod__c','reason_vod__c','recordtypeid_suggestion','record_type_name_vod__c_suggest','suggest_external_id_vod__c','suppress_reason_vod__c','title_vod__c','ownerid','detail_group_vod__c','driver_vod__c','email_fragment_order_vod__c','email_fragment_vod__c','suggest_tag_external_id_vod__c','product_vod__c','record_type_name_vod__c_sug_tag','recordtypeid_suggestion_tag','analytics_title','suggestion_survey_vod__c','Lead_Id']  \n",
    "\n",
    "if len(success_query_df) > 0:\n",
    "    # Create a list to store the data\n",
    "    success_list = []\n",
    "    for curr_row in success_query_df:\n",
    "        success_list.append(curr_row.asDict(True))\n",
    "\n",
    "    # Create the DataFrame with data and headers\n",
    "    success_df = pd.DataFrame(success_list)\n",
    "else:\n",
    "    # Create an empty DataFrame with headers\n",
    "    success_df = pd.DataFrame(columns=headers_sucess)\n",
    "\n",
    "#convert Error sql qyery to dataframe\n",
    "error_query = f\"WITH t(usecase_id, hist_retention) AS (SELECT USECASE_ID,hist_retention from com_us_alyt_ngebox.metadata_usecase) select * from com_us_alyt_ngebox.NGEBox_Suggestion_Requests_Processed where usecase_id = '{usecase_id}' and DATE(created_date) >=  date_add(current_date, -(select hist_retention from t where t.usecase_id = '{usecase_id}' )) and Sent_To_Veeva is null and processed = 1 and Not_Sent_To_Veeva_Reason is not null \"\n",
    "error_query_df = sqlContext.sql(error_query).collect()\n",
    "\n",
    "headers_error = ['NGEBox_Record_ID','usecase_id','HCP_NPI','HCP_OMNI_ID','HCP_ZIP_CODE','external_id','account_priority_score_vod__c','account_vod__c','actioned_vod__c',\n",
    "'action_count_vod__c','call_objective_clm_id_vod__c','call_objective_from_date_vod__c','call_obj_on_by_default_vod__c','call_obj_record_type_vod__c','call_objective_to_date_vod__c','dismissed_vod__c','dismiss_count_vod__c','display_dismiss_vod__c','display_mark_as_complete_vod__c','display_score_vod__c','email_template_id_vod__c','email_template_vault_id_vod__c','email_template_vod__c''expiration_date_vod__c','marked_as_complete_vod__c','mark_complete_count_vod__c','no_homepage_vod__c','planned_call_date_vod__c','posted_date_vod__c','priority_vod__c','reason_vod__c','recordtypeid_suggestion','record_type_name_vod__c_suggest','suggest_external_id_vod__c','suppress_reason_vod__c','title_vod__c','ownerid','detail_group_vod__c','driver_vod__c','email_fragment_order_vod__c','email_fragment_vod__c','suggest_tag_external_id_vod__c','product_vod__c','record_type_name_vod__c_sug_tag','recordtypeid_suggestion_tag','analytics_title','suggestion_survey_vod__c','Lead_Id','Processed',\n",
    "'Not_Sent_To_Veeva_Reason','Sent_to_Veeva','Created_Date','Created_By','HCP_NPI_OLD','HCP_OMNI_ID_OLD','OWNERID_OLD','HR_Hold_Flag','PDRP_Restriction_Flag','TKD_Sanction_Flag']\n",
    "if len(error_query_df) > 0:\n",
    "    # Create a list to store the data\n",
    "    error_list = []\n",
    "    for curr_row in error_query_df:\n",
    "        error_list.append(curr_row.asDict(True))\n",
    "\n",
    "    # Create the DataFrame with data and headers\n",
    "    error_df = pd.DataFrame(error_list)\n",
    "else:\n",
    "    # Create an empty DataFrame with headers\n",
    "    error_df = pd.DataFrame(columns=headers_error)"
   ]
  },
  {
   "cell_type": "code",
   "execution_count": 0,
   "metadata": {
    "application/vnd.databricks.v1+cell": {
     "cellMetadata": {
      "byteLimit": 2048000,
      "rowLimit": 10000
     },
     "inputWidgets": {},
     "nuid": "e2c77d69-b3ae-4be2-837b-3cdbb9663dc4",
     "showTitle": false,
     "title": ""
    }
   },
   "outputs": [
    {
     "output_type": "stream",
     "name": "stdout",
     "output_type": "stream",
     "text": [
      "Veeva_Suggestion_File_Takhzyro_Leads_labs_\nVeeva_Suggestion_File_Takhzyro_Leads_labs_\nOut[15]: {'ResponseMetadata': {'RequestId': 'WJA7R71BZR1B0J4F',\n  'HostId': 's0fA62hhnvQ75ncw+7PGqmRJyKIPXsrXVThYvrfiP2xoNA48buFuGsVSwpJVFhyPh7ZdF8dSmYw=',\n  'HTTPStatusCode': 200,\n  'HTTPHeaders': {'x-amz-id-2': 's0fA62hhnvQ75ncw+7PGqmRJyKIPXsrXVThYvrfiP2xoNA48buFuGsVSwpJVFhyPh7ZdF8dSmYw=',\n   'x-amz-request-id': 'WJA7R71BZR1B0J4F',\n   'date': 'Thu, 22 Jun 2023 11:59:37 GMT',\n   'x-amz-version-id': 'THuI6nJz3uTeRKq8_KppfjQ.Oe37ncJy',\n   'x-amz-server-side-encryption': 'aws:kms',\n   'x-amz-server-side-encryption-aws-kms-key-id': 'arn:aws:kms:us-east-1:263789222982:key/253920df-b84a-47ca-a26e-ace8b712a886',\n   'etag': '\"87b39831bd7d79c6a1021be8ea16a09f\"',\n   'server': 'AmazonS3',\n   'content-length': '0'},\n  'RetryAttempts': 0},\n 'ETag': '\"87b39831bd7d79c6a1021be8ea16a09f\"',\n 'ServerSideEncryption': 'aws:kms',\n 'VersionId': 'THuI6nJz3uTeRKq8_KppfjQ.Oe37ncJy',\n 'SSEKMSKeyId': 'arn:aws:kms:us-east-1:263789222982:key/253920df-b84a-47ca-a26e-ace8b712a886'}"
     ]
    }
   ],
   "source": [
    "# get s3 params from metadata table \n",
    "s3_query = f\"SELECT success_filename_prefix,error_filename_prefix,s3_bucket_name,s3_STG_path,s3_archive_path from com_us_alyt_ngebox.metadata_usecase where USECASE_ID = '{usecase_id}'\"\n",
    "s3_bucket_query_df = sqlContext.sql(s3_query).collect()[0]['s3_bucket_name']\n",
    "s3_STG_path_query_df = sqlContext.sql(s3_query).collect()[0]['s3_STG_path']\n",
    "s3_archive_path_query_df = sqlContext.sql(s3_query).collect()[0]['s3_archive_path']\n",
    "s3_success_prefix_df = sqlContext.sql(s3_query).collect()[0]['success_filename_prefix']\n",
    "s3_error_prefix_df = sqlContext.sql(s3_query).collect()[0]['error_filename_prefix']\n",
    "\n",
    "# Set the S3 bucket and folder path\n",
    "s3_bucket = s3_bucket_query_df\n",
    "s3_folder_path_STG = s3_STG_path_query_df\n",
    "s3_folder_path_arc = s3_archive_path_query_df\n",
    "s3_success_filename = s3_success_prefix_df\n",
    "s3_error_filename = s3_error_prefix_df\n",
    "\n",
    "# Get the current date and time\n",
    "folder_name = datetime.datetime.now().strftime(\"%Y-%m-%d\")\n",
    "\n",
    "# Create the S3 client\n",
    "s3_client = boto3.client('s3')\n",
    "\n",
    "# Create the CSV file name using the current date\n",
    "now = datetime.datetime.now().strftime(\"%Y%m%d_%H%M%S\")\n",
    "success_csv_file_name = f\"{s3_success_filename}{now}.csv\"\t\n",
    "error_csv_file_name = f\"{s3_error_filename}{now}.csv\"\n",
    "\n",
    "# Convert the DataFrame to CSV data\n",
    "success_csv_data = success_df.to_csv(index=False)\n",
    "error_csv_data = error_df.to_csv(index=False)\n",
    "\n",
    "# Write the dynamic CSV file to the S3 bucket folder for success and error files\n",
    "s3_client.put_object(Bucket=s3_bucket, Key=s3_folder_path_arc + folder_name + '/' + success_csv_file_name, Body=success_csv_data)\n",
    "s3_client.put_object(Bucket=s3_bucket, Key=s3_folder_path_arc + folder_name + '/' + error_csv_file_name, Body=error_csv_data)\n",
    "\n",
    "# Remove the existing CSV files in the STG path\n",
    "response = s3_client.list_objects_v2(Bucket=s3_bucket, Prefix=s3_folder_path_STG)\n",
    "for obj in response.get('Contents', []):\n",
    "    if obj['Key'].endswith('.csv'):\n",
    "        s3_client.delete_object(Bucket=s3_bucket, Key=obj['Key'])\n",
    "        print(f\"Deleted object: {obj['Key']}\")\n",
    "\n",
    "# Copy the new CSV file to the STG path\n",
    "s3_client.put_object(Bucket=s3_bucket, Key=s3_folder_path_STG + success_csv_file_name, Body=success_csv_data)"
   ]
  },
  {
   "cell_type": "code",
   "execution_count": 0,
   "metadata": {
    "application/vnd.databricks.v1+cell": {
     "cellMetadata": {
      "byteLimit": 2048000,
      "rowLimit": 10000
     },
     "inputWidgets": {},
     "nuid": "2005047b-011e-4a73-8095-0f4375db9b54",
     "showTitle": false,
     "title": ""
    }
   },
   "outputs": [],
   "source": [
    "class s3Load:\n",
    "   def construct_microservice_response(self):\n",
    "    resp = {\n",
    "      \"nge_response\": {\n",
    "        \"status\": 200,\n",
    "        \"body\": \"s3 file load completed\"\n",
    "      }\n",
    "    }\n",
    "    self.response = resp"
   ]
  },
  {
   "cell_type": "code",
   "execution_count": 0,
   "metadata": {
    "application/vnd.databricks.v1+cell": {
     "cellMetadata": {
      "byteLimit": 2048000,
      "rowLimit": 10000
     },
     "inputWidgets": {},
     "nuid": "39b956ef-1da7-431e-b3f5-3ec6a94abf83",
     "showTitle": false,
     "title": ""
    }
   },
   "outputs": [
    {
     "output_type": "display_data",
     "data": {
      "text/plain": [
       "{'nge_response': {'status': 200, 'body': 's3 file load completed'}}"
      ]
     },
     "metadata": {
      "application/vnd.databricks.v1+output": {
       "arguments": {},
       "data": "{'nge_response': {'status': 200, 'body': 's3 file load completed'}}",
       "metadata": {},
       "type": "exit"
      }
     },
     "output_type": "display_data"
    }
   ],
   "source": [
    "metadata_obj = s3Load()\n",
    "metadata_obj.construct_microservice_response()\n",
    "dbutils.notebook.exit(\n",
    "  metadata_obj.response\n",
    ")"
   ]
  }
 ],
 "metadata": {
  "application/vnd.databricks.v1+notebook": {
   "dashboards": [],
   "language": "python",
   "notebookMetadata": {
    "pythonIndentUnit": 4
   },
   "notebookName": "NGE-Box-NB-S3-File-Loader-Job",
   "widgets": {}
  }
 },
 "nbformat": 4,
 "nbformat_minor": 0
}
