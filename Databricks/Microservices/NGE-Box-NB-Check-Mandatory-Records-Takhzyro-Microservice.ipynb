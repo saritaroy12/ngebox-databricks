{
 "cells": [
  {
   "cell_type": "code",
   "execution_count": 0,
   "metadata": {
    "application/vnd.databricks.v1+cell": {
     "cellMetadata": {
      "byteLimit": 2048000,
      "rowLimit": 10000
     },
     "inputWidgets": {},
     "nuid": "eb9acc5f-6d91-4946-a80a-4912f97177d4",
     "showTitle": false,
     "title": ""
    }
   },
   "outputs": [
    {
     "output_type": "display_data",
     "data": {
      "application/vnd.databricks.v1+bamboolib_hint": "{\"pd.DataFrames\": [], \"version\": \"0.0.1\"}",
      "text/plain": []
     },
     "metadata": {},
     "output_type": "display_data"
    }
   ],
   "source": [
    "%python\n",
    "## Import libraries\n",
    "import pyspark as ps\n",
    "from pyspark.sql.functions import *\n",
    "from pyspark.sql.types import *\n",
    "from datetime import *\n",
    "import pandas as pd\n",
    "import json\n"
   ]
  },
  {
   "cell_type": "code",
   "execution_count": 0,
   "metadata": {
    "application/vnd.databricks.v1+cell": {
     "cellMetadata": {
      "byteLimit": 2048000,
      "rowLimit": 10000
     },
     "inputWidgets": {},
     "nuid": "3aea1890-f862-448e-b927-d8cb1476508e",
     "showTitle": false,
     "title": ""
    }
   },
   "outputs": [],
   "source": [
    "class Mandatory_Check:\n",
    "  def __init__(self):\n",
    "    self.query = \"Query About to fill\"\n",
    "    self.sql_df = pd.DataFrame()\n",
    "    self.data_json = {\"Data\":[]}    \n",
    "  \n",
    "  def logger(message):\n",
    "    print(message)\n",
    "    \n",
    "  def set_query_string(self):\n",
    "    query = \"\"\"UPDATE com_us_alyt_ngebox.NGEBox_Suggestion_Requests_Processed\n",
    "SET Not_Sent_To_Veeva_Reason = (\n",
    "  CASE WHEN ISNULL(Not_Sent_To_Veeva_Reason) = true THEN 'Invalid Record, None of the mandatory columns account_vod__c/HCP_OMNI_ID/HCP_NPI is present'\n",
    "  ELSE CONCAT(Not_Sent_To_Veeva_Reason, '|', 'Invalid Record, None of the mandatory columns account_vod__c/HCP_OMNI_ID/HCP_NPI is present')\n",
    "  END\n",
    ")\n",
    "WHERE ((account_vod__c IS NULL OR account_vod__c = ' ') AND (HCP_OMNI_ID IS NULL OR HCP_OMNI_ID = ' ') AND (HCP_NPI = ' ' OR HCP_NPI IS NULL) AND CAST(created_date as DATE) >= date_add(current_date, -(SELECT t.hist_retention FROM com_us_alyt_ngebox.metadata_usecase t WHERE t.usecase_id = usecase_id)) AND SUGGEST_EXTERNAL_ID_VOD__C IN (select p.SUGGEST_EXTERNAL_ID_VOD__C from com_us_alyt_ngebox.ngebox_suggestion_requests_processed p left join com_us_lake.rep_suggestion_vod__c s on p.SUGGEST_EXTERNAL_ID_VOD__C = s.SUGGESTION_EXTERNAL_ID_VOD__C where (s.SUGGESTION_EXTERNAL_ID_VOD__C is NULL) or (s.SUGGESTION_EXTERNAL_ID_VOD__C is not null and s.DISMISSED_VOD__C = 0)));\n",
    "UPDATE com_us_alyt_ngebox.NGEBox_Suggestion_Requests_Processed\n",
    "SET Not_Sent_To_Veeva_Reason = (\n",
    "  CASE WHEN ISNULL(Not_Sent_To_Veeva_Reason) = true THEN 'Invalid Record, USECASE_ID not present'\n",
    "  ELSE CONCAT(Not_Sent_To_Veeva_Reason, '|', 'Invalid Record, USECASE_ID not present')\n",
    "  END\n",
    ")\n",
    "WHERE ((USECASE_ID IS NULL OR USECASE_ID = ' ')  AND CAST(created_date as DATE) >= date_add(current_date, -(SELECT t.hist_retention FROM com_us_alyt_ngebox.metadata_usecase t WHERE t.usecase_id = usecase_id)) AND SUGGEST_EXTERNAL_ID_VOD__C IN (select p.SUGGEST_EXTERNAL_ID_VOD__C from com_us_alyt_ngebox.ngebox_suggestion_requests_processed p left join com_us_lake.rep_suggestion_vod__c s on p.SUGGEST_EXTERNAL_ID_VOD__C = s.SUGGESTION_EXTERNAL_ID_VOD__C where (s.SUGGESTION_EXTERNAL_ID_VOD__C is NULL) or (s.SUGGESTION_EXTERNAL_ID_VOD__C is not null and s.DISMISSED_VOD__C = 0)));\n",
    "UPDATE com_us_alyt_ngebox.NGEBox_Suggestion_Requests_Processed\n",
    "SET Not_Sent_To_Veeva_Reason = (\n",
    "  CASE WHEN ISNULL(Not_Sent_To_Veeva_Reason) = true THEN 'Invalid Record, EMAIL_ADDRESS_INFORM not present'\n",
    "  ELSE CONCAT(Not_Sent_To_Veeva_Reason, '|', 'Invalid Record, EMAIL_ADDRESS_INFORM not present')\n",
    "  END\n",
    ")\n",
    "WHERE ((EMAIL_ADDRESS_INFORM is null or EMAIL_ADDRESS_INFORM = ' ')  AND CAST(created_date as DATE)>= date_add(current_date, -(SELECT t.hist_retention FROM com_us_alyt_ngebox.metadata_usecase t WHERE t.usecase_id = usecase_id)) AND SUGGEST_EXTERNAL_ID_VOD__C IN (select p.SUGGEST_EXTERNAL_ID_VOD__C from com_us_alyt_ngebox.ngebox_suggestion_requests_processed p left join com_us_lake.rep_suggestion_vod__c s on p.SUGGEST_EXTERNAL_ID_VOD__C = s.SUGGESTION_EXTERNAL_ID_VOD__C where (s.SUGGESTION_EXTERNAL_ID_VOD__C is NULL) or (s.SUGGESTION_EXTERNAL_ID_VOD__C is not null and s.DISMISSED_VOD__C = 0)));\n",
    "UPDATE com_us_alyt_ngebox.NGEBox_Suggestion_Requests_Processed\n",
    "SET Not_Sent_To_Veeva_Reason = (\n",
    "  CASE WHEN ISNULL(Not_Sent_To_Veeva_Reason) = true THEN 'Invalid Record, HCP_ZIP_CODE not present'\n",
    "  ELSE CONCAT(Not_Sent_To_Veeva_Reason, '|', 'Invalid Record, HCP_ZIP_CODE not present')\n",
    "  END\n",
    ")\n",
    "WHERE (( HCP_ZIP_CODE is null or HCP_ZIP_CODE = ' ') AND CAST(created_date as DATE) >= date_add(current_date, -(SELECT t.hist_retention FROM com_us_alyt_ngebox.metadata_usecase t WHERE t.usecase_id = usecase_id)) AND SUGGEST_EXTERNAL_ID_VOD__C IN (select p.SUGGEST_EXTERNAL_ID_VOD__C from com_us_alyt_ngebox.ngebox_suggestion_requests_processed p left join com_us_lake.rep_suggestion_vod__c s on p.SUGGEST_EXTERNAL_ID_VOD__C = s.SUGGESTION_EXTERNAL_ID_VOD__C where (s.SUGGESTION_EXTERNAL_ID_VOD__C is NULL) or (s.SUGGESTION_EXTERNAL_ID_VOD__C is not null and s.DISMISSED_VOD__C = 0)));\n",
    "UPDATE com_us_alyt_ngebox.NGEBox_Suggestion_Requests_Processed\n",
    "SET Not_Sent_To_Veeva_Reason = (\n",
    "  CASE WHEN ISNULL(Not_Sent_To_Veeva_Reason) = true THEN 'Invalid Record, CALL_OBJ_ON_BY_DEFAULT_VOD__C not present'\n",
    "  ELSE CONCAT(Not_Sent_To_Veeva_Reason, '|', 'Invalid Record, CALL_OBJ_ON_BY_DEFAULT_VOD__C not present')\n",
    "  END\n",
    ")\n",
    "WHERE ((CALL_OBJ_ON_BY_DEFAULT_VOD__C is null or CALL_OBJ_ON_BY_DEFAULT_VOD__C = ' ') AND CAST(created_date as DATE) >= date_add(current_date, -(SELECT t.hist_retention FROM com_us_alyt_ngebox.metadata_usecase t WHERE t.usecase_id = usecase_id)) AND SUGGEST_EXTERNAL_ID_VOD__C IN (select p.SUGGEST_EXTERNAL_ID_VOD__C from com_us_alyt_ngebox.ngebox_suggestion_requests_processed p left join com_us_lake.rep_suggestion_vod__c s on p.SUGGEST_EXTERNAL_ID_VOD__C = s.SUGGESTION_EXTERNAL_ID_VOD__C where (s.SUGGESTION_EXTERNAL_ID_VOD__C is NULL) or (s.SUGGESTION_EXTERNAL_ID_VOD__C is not null and s.DISMISSED_VOD__C = 0)));\n",
    "UPDATE com_us_alyt_ngebox.NGEBox_Suggestion_Requests_Processed\n",
    "SET Not_Sent_To_Veeva_Reason = (\n",
    "  CASE WHEN ISNULL(Not_Sent_To_Veeva_Reason) = true THEN 'Invalid Record, CALL_OBJ_RECORD_TYPE_VOD__C not present'\n",
    "  ELSE CONCAT(Not_Sent_To_Veeva_Reason, '|', 'Invalid Record, CALL_OBJ_RECORD_TYPE_VOD__C not present')\n",
    "  END\n",
    ")\n",
    "WHERE (( CALL_OBJ_RECORD_TYPE_VOD__C is null or CALL_OBJ_RECORD_TYPE_VOD__C = ' ')  AND CAST(created_date as DATE) >= date_add(current_date, -(SELECT t.hist_retention FROM com_us_alyt_ngebox.metadata_usecase t WHERE t.usecase_id = usecase_id)) AND SUGGEST_EXTERNAL_ID_VOD__C IN (select p.SUGGEST_EXTERNAL_ID_VOD__C from com_us_alyt_ngebox.ngebox_suggestion_requests_processed p left join com_us_lake.rep_suggestion_vod__c s on p.SUGGEST_EXTERNAL_ID_VOD__C = s.SUGGESTION_EXTERNAL_ID_VOD__C where (s.SUGGESTION_EXTERNAL_ID_VOD__C is NULL) or (s.SUGGESTION_EXTERNAL_ID_VOD__C is not null and s.DISMISSED_VOD__C = 0)));\n",
    "UPDATE com_us_alyt_ngebox.NGEBox_Suggestion_Requests_Processed\n",
    "SET Not_Sent_To_Veeva_Reason = (\n",
    "  CASE WHEN ISNULL(Not_Sent_To_Veeva_Reason) = true THEN 'Invalid Record, DISPLAY_DISMISS_VOD__C not present'\n",
    "  ELSE CONCAT(Not_Sent_To_Veeva_Reason, '|', 'Invalid Record, DISPLAY_DISMISS_VOD__C not present')\n",
    "  END\n",
    ")\n",
    "WHERE (( DISPLAY_DISMISS_VOD__C is null or DISPLAY_DISMISS_VOD__C = ' ')  AND CAST(created_date as DATE) >= date_add(current_date, -(SELECT t.hist_retention FROM com_us_alyt_ngebox.metadata_usecase t WHERE t.usecase_id = usecase_id)) AND SUGGEST_EXTERNAL_ID_VOD__C IN (select p.SUGGEST_EXTERNAL_ID_VOD__C from com_us_alyt_ngebox.ngebox_suggestion_requests_processed p left join com_us_lake.rep_suggestion_vod__c s on p.SUGGEST_EXTERNAL_ID_VOD__C = s.SUGGESTION_EXTERNAL_ID_VOD__C where (s.SUGGESTION_EXTERNAL_ID_VOD__C is NULL) or (s.SUGGESTION_EXTERNAL_ID_VOD__C is not null and s.DISMISSED_VOD__C = 0)));\n",
    "UPDATE com_us_alyt_ngebox.NGEBox_Suggestion_Requests_Processed\n",
    "SET Not_Sent_To_Veeva_Reason = (\n",
    "  CASE WHEN ISNULL(Not_Sent_To_Veeva_Reason) = true THEN 'Invalid Record, DISPLAY_MARK_AS_COMPLETE_VOD__C not present'\n",
    "  ELSE CONCAT(Not_Sent_To_Veeva_Reason, '|', 'Invalid Record, DISPLAY_MARK_AS_COMPLETE_VOD__C not present')\n",
    "  END\n",
    ")\n",
    "WHERE (( DISPLAY_MARK_AS_COMPLETE_VOD__C is null or DISPLAY_MARK_AS_COMPLETE_VOD__C = ' ')  AND CAST(created_date as DATE) >= date_add(current_date, -(SELECT t.hist_retention FROM com_us_alyt_ngebox.metadata_usecase t WHERE t.usecase_id = usecase_id)) AND SUGGEST_EXTERNAL_ID_VOD__C IN (select p.SUGGEST_EXTERNAL_ID_VOD__C from com_us_alyt_ngebox.ngebox_suggestion_requests_processed p left join com_us_lake.rep_suggestion_vod__c s on p.SUGGEST_EXTERNAL_ID_VOD__C = s.SUGGESTION_EXTERNAL_ID_VOD__C where (s.SUGGESTION_EXTERNAL_ID_VOD__C is NULL) or (s.SUGGESTION_EXTERNAL_ID_VOD__C is not null and s.DISMISSED_VOD__C = 0)));\n",
    "UPDATE com_us_alyt_ngebox.NGEBox_Suggestion_Requests_Processed\n",
    "SET Not_Sent_To_Veeva_Reason = (\n",
    "  CASE WHEN ISNULL(Not_Sent_To_Veeva_Reason) = true THEN 'Invalid Record, DISPLAY_SCORE_VOD__C not present'\n",
    "  ELSE CONCAT(Not_Sent_To_Veeva_Reason, '|', 'Invalid Record, DISPLAY_SCORE_VOD__C not present')\n",
    "  END\n",
    ")\n",
    "WHERE ((DISPLAY_SCORE_VOD__C is null or DISPLAY_SCORE_VOD__C = ' ')  AND CAST(created_date as DATE) >= date_add(current_date, -(SELECT t.hist_retention FROM com_us_alyt_ngebox.metadata_usecase t WHERE t.usecase_id = usecase_id)) AND SUGGEST_EXTERNAL_ID_VOD__C IN (select p.SUGGEST_EXTERNAL_ID_VOD__C from com_us_alyt_ngebox.ngebox_suggestion_requests_processed p left join com_us_lake.rep_suggestion_vod__c s on p.SUGGEST_EXTERNAL_ID_VOD__C = s.SUGGESTION_EXTERNAL_ID_VOD__C where (s.SUGGESTION_EXTERNAL_ID_VOD__C is NULL) or (s.SUGGESTION_EXTERNAL_ID_VOD__C is not null and s.DISMISSED_VOD__C = 0)));\n",
    "UPDATE com_us_alyt_ngebox.NGEBox_Suggestion_Requests_Processed\n",
    "SET Not_Sent_To_Veeva_Reason = (\n",
    "  CASE WHEN ISNULL(Not_Sent_To_Veeva_Reason) = true THEN 'Invalid Record, EXPIRATION_DATE_VOD__C not present'\n",
    "  ELSE CONCAT(Not_Sent_To_Veeva_Reason, '|', 'Invalid Record, EXPIRATION_DATE_VOD__C not present')\n",
    "  END\n",
    ")\n",
    "WHERE (( EXPIRATION_DATE_VOD__C is null or EXPIRATION_DATE_VOD__C = ' ')  AND CAST(created_date as DATE) >= date_add(current_date, -(SELECT t.hist_retention FROM com_us_alyt_ngebox.metadata_usecase t WHERE t.usecase_id = usecase_id)) AND SUGGEST_EXTERNAL_ID_VOD__C IN (select p.SUGGEST_EXTERNAL_ID_VOD__C from com_us_alyt_ngebox.ngebox_suggestion_requests_processed p left join com_us_lake.rep_suggestion_vod__c s on p.SUGGEST_EXTERNAL_ID_VOD__C = s.SUGGESTION_EXTERNAL_ID_VOD__C where (s.SUGGESTION_EXTERNAL_ID_VOD__C is NULL) or (s.SUGGESTION_EXTERNAL_ID_VOD__C is not null and s.DISMISSED_VOD__C = 0)));\n",
    "UPDATE com_us_alyt_ngebox.NGEBox_Suggestion_Requests_Processed\n",
    "SET Not_Sent_To_Veeva_Reason = (\n",
    "  CASE WHEN ISNULL(Not_Sent_To_Veeva_Reason) = true THEN 'Invalid Record, NO_HOMEPAGE_VOD__C not present'\n",
    "  ELSE CONCAT(Not_Sent_To_Veeva_Reason, '|', 'Invalid Record, NO_HOMEPAGE_VOD__C not present')\n",
    "  END\n",
    ")\n",
    "WHERE (( NO_HOMEPAGE_VOD__C is null or NO_HOMEPAGE_VOD__C = ' ') AND  CAST(created_date as DATE)>= date_add(current_date, -(SELECT t.hist_retention FROM com_us_alyt_ngebox.metadata_usecase t WHERE t.usecase_id = usecase_id)) AND SUGGEST_EXTERNAL_ID_VOD__C IN (select p.SUGGEST_EXTERNAL_ID_VOD__C from com_us_alyt_ngebox.ngebox_suggestion_requests_processed p left join com_us_lake.rep_suggestion_vod__c s on p.SUGGEST_EXTERNAL_ID_VOD__C = s.SUGGESTION_EXTERNAL_ID_VOD__C where (s.SUGGESTION_EXTERNAL_ID_VOD__C is NULL) or (s.SUGGESTION_EXTERNAL_ID_VOD__C is not null and s.DISMISSED_VOD__C = 0)));\n",
    "UPDATE com_us_alyt_ngebox.NGEBox_Suggestion_Requests_Processed\n",
    "SET Not_Sent_To_Veeva_Reason = (\n",
    "  CASE WHEN ISNULL(Not_Sent_To_Veeva_Reason) = true THEN 'Invalid Record, POSTED_DATE_VOD__C not present'\n",
    "  ELSE CONCAT(Not_Sent_To_Veeva_Reason, '|', 'Invalid Record, POSTED_DATE_VOD__C not present')\n",
    "  END\n",
    ")\n",
    "WHERE (( POSTED_DATE_VOD__C is null or POSTED_DATE_VOD__C = ' ') AND  CAST(created_date as DATE) >= date_add(current_date, -(SELECT t.hist_retention FROM com_us_alyt_ngebox.metadata_usecase t WHERE t.usecase_id = usecase_id)) AND SUGGEST_EXTERNAL_ID_VOD__C IN (select p.SUGGEST_EXTERNAL_ID_VOD__C from com_us_alyt_ngebox.ngebox_suggestion_requests_processed p left join com_us_lake.rep_suggestion_vod__c s on p.SUGGEST_EXTERNAL_ID_VOD__C = s.SUGGESTION_EXTERNAL_ID_VOD__C where (s.SUGGESTION_EXTERNAL_ID_VOD__C is NULL) or (s.SUGGESTION_EXTERNAL_ID_VOD__C is not null and s.DISMISSED_VOD__C = 0)));\n",
    "UPDATE com_us_alyt_ngebox.NGEBox_Suggestion_Requests_Processed\n",
    "SET Not_Sent_To_Veeva_Reason = (\n",
    "  CASE WHEN ISNULL(Not_Sent_To_Veeva_Reason) = true THEN 'Invalid Record, PRIORITY_VOD__C not present'\n",
    "  ELSE CONCAT(Not_Sent_To_Veeva_Reason, '|', 'Invalid Record, PRIORITY_VOD__C not present')\n",
    "  END\n",
    ")\n",
    "WHERE (( PRIORITY_VOD__C is null or PRIORITY_VOD__C = ' ') AND CAST(created_date as DATE) >= date_add(current_date, -(SELECT t.hist_retention FROM com_us_alyt_ngebox.metadata_usecase t WHERE t.usecase_id = usecase_id)) AND SUGGEST_EXTERNAL_ID_VOD__C IN (select p.SUGGEST_EXTERNAL_ID_VOD__C from com_us_alyt_ngebox.ngebox_suggestion_requests_processed p left join com_us_lake.rep_suggestion_vod__c s on p.SUGGEST_EXTERNAL_ID_VOD__C = s.SUGGESTION_EXTERNAL_ID_VOD__C where (s.SUGGESTION_EXTERNAL_ID_VOD__C is NULL) or (s.SUGGESTION_EXTERNAL_ID_VOD__C is not null and s.DISMISSED_VOD__C = 0)));\n",
    "UPDATE com_us_alyt_ngebox.NGEBox_Suggestion_Requests_Processed\n",
    "SET Not_Sent_To_Veeva_Reason = (\n",
    "  CASE WHEN ISNULL(Not_Sent_To_Veeva_Reason) = true THEN 'Invalid Record, RECORDTYPEID_SUGGESTION not present'\n",
    "  ELSE CONCAT(Not_Sent_To_Veeva_Reason, '|', 'Invalid Record, RECORDTYPEID_SUGGESTION not present')\n",
    "  END\n",
    ")\n",
    "WHERE ((RECORDTYPEID_SUGGESTION is null or RECORDTYPEID_SUGGESTION = ' ') AND CAST(created_date as DATE) >= date_add(current_date, -(SELECT t.hist_retention FROM com_us_alyt_ngebox.metadata_usecase t WHERE t.usecase_id = usecase_id)) AND SUGGEST_EXTERNAL_ID_VOD__C IN (select p.SUGGEST_EXTERNAL_ID_VOD__C from com_us_alyt_ngebox.ngebox_suggestion_requests_processed p left join com_us_lake.rep_suggestion_vod__c s on p.SUGGEST_EXTERNAL_ID_VOD__C = s.SUGGESTION_EXTERNAL_ID_VOD__C where (s.SUGGESTION_EXTERNAL_ID_VOD__C is NULL) or (s.SUGGESTION_EXTERNAL_ID_VOD__C is not null and s.DISMISSED_VOD__C = 0)));\n",
    "UPDATE com_us_alyt_ngebox.NGEBox_Suggestion_Requests_Processed\n",
    "SET Not_Sent_To_Veeva_Reason = (\n",
    "  CASE WHEN ISNULL(Not_Sent_To_Veeva_Reason) = true THEN 'Invalid Record, RECORD_TYPE_NAME_VOD__C_SUGGEST not present'\n",
    "  ELSE CONCAT(Not_Sent_To_Veeva_Reason, '|', 'Invalid Record, RECORD_TYPE_NAME_VOD__C_SUGGEST  not present')\n",
    "  END\n",
    ")\n",
    "WHERE (( RECORD_TYPE_NAME_VOD__C_SUGGEST is null or  RECORD_TYPE_NAME_VOD__C_SUGGEST = ' ') AND CAST(created_date as DATE) >= date_add(current_date, -(SELECT t.hist_retention FROM com_us_alyt_ngebox.metadata_usecase t WHERE t.usecase_id = usecase_id)) AND SUGGEST_EXTERNAL_ID_VOD__C IN (SELECT SUGGESTION_EXTERNAL_ID_VOD__C FROM com_us_lake.rep_suggestion_vod__c WHERE DISMISSED_VOD__C = 0));\n",
    "UPDATE com_us_alyt_ngebox.NGEBox_Suggestion_Requests_Processed\n",
    "SET Not_Sent_To_Veeva_Reason = (\n",
    "  CASE WHEN ISNULL(Not_Sent_To_Veeva_Reason) = true THEN 'Invalid Record, SUPPRESS_REASON_VOD__C not present'\n",
    "  ELSE CONCAT(Not_Sent_To_Veeva_Reason, '|', 'Invalid Record, SUPPRESS_REASON_VOD__C  not present')\n",
    "  END\n",
    ")\n",
    "WHERE ((SUPPRESS_REASON_VOD__C is null or SUPPRESS_REASON_VOD__C = ' ')AND  CAST(created_date as DATE) >= date_add(current_date, -(SELECT t.hist_retention FROM com_us_alyt_ngebox.metadata_usecase t WHERE t.usecase_id = usecase_id)) AND SUGGEST_EXTERNAL_ID_VOD__C IN (select p.SUGGEST_EXTERNAL_ID_VOD__C from com_us_alyt_ngebox.ngebox_suggestion_requests_processed p left join com_us_lake.rep_suggestion_vod__c s on p.SUGGEST_EXTERNAL_ID_VOD__C = s.SUGGESTION_EXTERNAL_ID_VOD__C where (s.SUGGESTION_EXTERNAL_ID_VOD__C is NULL) or (s.SUGGESTION_EXTERNAL_ID_VOD__C is not null and s.DISMISSED_VOD__C = 0)));\n",
    "UPDATE com_us_alyt_ngebox.NGEBox_Suggestion_Requests_Processed\n",
    "SET Not_Sent_To_Veeva_Reason = (\n",
    "  CASE WHEN ISNULL(Not_Sent_To_Veeva_Reason) = true THEN 'Invalid Record, TITLE_VOD__C not present'\n",
    "  ELSE CONCAT(Not_Sent_To_Veeva_Reason, '|', 'Invalid Record, TITLE_VOD__C  not present')\n",
    "  END\n",
    ")\n",
    "WHERE (( TITLE_VOD__C is null or TITLE_VOD__C = ' ') AND CAST(created_date as DATE) >= date_add(current_date, -(SELECT t.hist_retention FROM com_us_alyt_ngebox.metadata_usecase t WHERE t.usecase_id = usecase_id)) AND SUGGEST_EXTERNAL_ID_VOD__C IN (select p.SUGGEST_EXTERNAL_ID_VOD__C from com_us_alyt_ngebox.ngebox_suggestion_requests_processed p left join com_us_lake.rep_suggestion_vod__c s on p.SUGGEST_EXTERNAL_ID_VOD__C = s.SUGGESTION_EXTERNAL_ID_VOD__C where (s.SUGGESTION_EXTERNAL_ID_VOD__C is NULL) or (s.SUGGESTION_EXTERNAL_ID_VOD__C is not null and s.DISMISSED_VOD__C = 0)));\n",
    "UPDATE com_us_alyt_ngebox.NGEBox_Suggestion_Requests_Processed\n",
    "SET Not_Sent_To_Veeva_Reason = (\n",
    "  CASE WHEN ISNULL(Not_Sent_To_Veeva_Reason) = true THEN 'Invalid Record, CREATED_DATE not present'\n",
    "  ELSE CONCAT(Not_Sent_To_Veeva_Reason, '|', 'Invalid Record, CREATED_DATE  not present')\n",
    "  END\n",
    ")\n",
    "WHERE (( CREATED_DATE is null or CREATED_DATE = ' ') AND CAST(created_date as DATE) >= date_add(current_date, -(SELECT t.hist_retention FROM com_us_alyt_ngebox.metadata_usecase t WHERE t.usecase_id = usecase_id)) AND SUGGEST_EXTERNAL_ID_VOD__C IN (select p.SUGGEST_EXTERNAL_ID_VOD__C from com_us_alyt_ngebox.ngebox_suggestion_requests_processed p left join com_us_lake.rep_suggestion_vod__c s on p.SUGGEST_EXTERNAL_ID_VOD__C = s.SUGGESTION_EXTERNAL_ID_VOD__C where (s.SUGGESTION_EXTERNAL_ID_VOD__C is NULL) or (s.SUGGESTION_EXTERNAL_ID_VOD__C is not null and s.DISMISSED_VOD__C = 0)));\n",
    "UPDATE com_us_alyt_ngebox.NGEBox_Suggestion_Requests_Processed\n",
    "SET Not_Sent_To_Veeva_Reason = (\n",
    "  CASE WHEN ISNULL(Not_Sent_To_Veeva_Reason) = true THEN 'Invalid Record, CREATED_BY not present'\n",
    "  ELSE CONCAT(Not_Sent_To_Veeva_Reason, '|', 'Invalid Record, CREATED_BY  not present')\n",
    "  END\n",
    ")\n",
    "WHERE (( CREATED_BY is null or CREATED_BY = ' ') AND CAST(created_date as DATE) >= date_add(current_date, -(SELECT t.hist_retention FROM com_us_alyt_ngebox.metadata_usecase t WHERE t.usecase_id = usecase_id)) AND SUGGEST_EXTERNAL_ID_VOD__C IN (select p.SUGGEST_EXTERNAL_ID_VOD__C from com_us_alyt_ngebox.ngebox_suggestion_requests_processed p left join com_us_lake.rep_suggestion_vod__c s on p.SUGGEST_EXTERNAL_ID_VOD__C = s.SUGGESTION_EXTERNAL_ID_VOD__C where (s.SUGGESTION_EXTERNAL_ID_VOD__C is NULL) or (s.SUGGESTION_EXTERNAL_ID_VOD__C is not null and s.DISMISSED_VOD__C = 0)));\n",
    "\"\"\"\n",
    "    self.query = query    \n",
    "\n",
    "  def run_query_and_set_sqldf(self):\n",
    "    query_list = self.query.split(\";\")\n",
    "    self.sql_df = []\n",
    "    for curr_query in query_list:\n",
    "      if curr_query.strip() == \"\":\n",
    "        continue\n",
    "      sql_df = sqlContext.sql(curr_query).collect() # type(sql_df) -> dict\n",
    "      self.sql_df = self.sql_df + sql_df\n",
    "    \n",
    "  def format_sqldf_to_json(self):\n",
    "    sql_output_rowlist = []\n",
    "    for curr_row in self.sql_df: \n",
    "      sql_output_rowlist.append (curr_row.asDict(True))\n",
    "    sql_df_new = pd.DataFrame(sql_output_rowlist)\n",
    "    sql_jsonstr = sql_df_new.to_json(orient=\"records\") # type(result) -> str\n",
    "    sql_jsonparse = json.loads(sql_jsonstr) # type(parsed_json) -> list\n",
    "    nb_json = {\"data\":sql_jsonparse} # type(metadata_json) -> dict\n",
    "    self.nb_json = nb_json\n",
    "    \n",
    "  def construct_microservice_response(self):\n",
    "    resp = {\n",
    "      \"nge_response\": {\n",
    "        \"status\": 200,\n",
    "        \"body\": self.nb_json\n",
    "      }\n",
    "    }\n",
    "    self.response = resp"
   ]
  },
  {
   "cell_type": "code",
   "execution_count": 0,
   "metadata": {
    "application/vnd.databricks.v1+cell": {
     "cellMetadata": {
      "byteLimit": 2048000,
      "rowLimit": 10000
     },
     "inputWidgets": {},
     "nuid": "7ab6d618-d0bb-45e0-a39c-1236d9c53664",
     "showTitle": false,
     "title": ""
    }
   },
   "outputs": [
    {
     "output_type": "display_data",
     "data": {
      "text/plain": [
       "{'nge_response': {'status': 200, 'body': {'data': [{'num_affected_rows': 0}, {'num_affected_rows': 0}, {'num_affected_rows': 0}, {'num_affected_rows': 0}, {'num_affected_rows': 0}, {'num_affected_rows': 0}, {'num_affected_rows': 0}, {'num_affected_rows': 0}, {'num_affected_rows': 0}, {'num_affected_rows': 0}, {'num_affected_rows': 0}, {'num_affected_rows': 0}, {'num_affected_rows': 0}, {'num_affected_rows': 0}, {'num_affected_rows': 0}, {'num_affected_rows': 0}, {'num_affected_rows': 0}, {'num_affected_rows': 0}, {'num_affected_rows': 0}]}}}"
      ]
     },
     "metadata": {
      "application/vnd.databricks.v1+output": {
       "arguments": {},
       "data": "{'nge_response': {'status': 200, 'body': {'data': [{'num_affected_rows': 0}, {'num_affected_rows': 0}, {'num_affected_rows': 0}, {'num_affected_rows': 0}, {'num_affected_rows': 0}, {'num_affected_rows': 0}, {'num_affected_rows': 0}, {'num_affected_rows': 0}, {'num_affected_rows': 0}, {'num_affected_rows': 0}, {'num_affected_rows': 0}, {'num_affected_rows': 0}, {'num_affected_rows': 0}, {'num_affected_rows': 0}, {'num_affected_rows': 0}, {'num_affected_rows': 0}, {'num_affected_rows': 0}, {'num_affected_rows': 0}, {'num_affected_rows': 0}]}}}",
       "metadata": {},
       "type": "exit"
      }
     },
     "output_type": "display_data"
    }
   ],
   "source": [
    "nb_obj = Mandatory_Check()\n",
    "nb_obj.set_query_string()\n",
    "nb_obj.run_query_and_set_sqldf()\n",
    "nb_obj.format_sqldf_to_json()\n",
    "nb_obj.construct_microservice_response()\n",
    "dbutils.notebook.exit(\n",
    "  nb_obj.response\n",
    ")\n"
   ]
  }
 ],
 "metadata": {
  "application/vnd.databricks.v1+notebook": {
   "dashboards": [],
   "language": "python",
   "notebookMetadata": {
    "pythonIndentUnit": 4
   },
   "notebookName": "NGE-Box-NB-Check-Mandatory-Records-Takhzyro-Microservice",
   "widgets": {}
  }
 },
 "nbformat": 4,
 "nbformat_minor": 0
}
