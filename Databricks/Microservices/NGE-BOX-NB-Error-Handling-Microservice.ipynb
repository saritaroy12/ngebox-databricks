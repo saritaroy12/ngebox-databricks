{
 "cells": [
  {
   "cell_type": "code",
   "execution_count": 0,
   "metadata": {
    "application/vnd.databricks.v1+cell": {
     "cellMetadata": {
      "byteLimit": 2048000,
      "rowLimit": 10000
     },
     "inputWidgets": {},
     "nuid": "c4f88251-c6c2-4aab-aa65-8154079edbcc",
     "showTitle": false,
     "title": ""
    }
   },
   "outputs": [
    {
     "output_type": "display_data",
     "data": {
      "application/vnd.databricks.v1+bamboolib_hint": "{\"pd.DataFrames\": [], \"version\": \"0.0.1\"}",
      "text/plain": []
     },
     "metadata": {},
     "output_type": "display_data"
    }
   ],
   "source": [
    "%python\n",
    "## Import libraries\n",
    "import pyspark as ps\n",
    "from pyspark.sql.functions import *\n",
    "from pyspark.sql.types import *\n",
    "from datetime import *\n",
    "import pandas as pd\n",
    "import json"
   ]
  },
  {
   "cell_type": "code",
   "execution_count": 0,
   "metadata": {
    "application/vnd.databricks.v1+cell": {
     "cellMetadata": {},
     "inputWidgets": {},
     "nuid": "deb3387e-aaf7-4a3e-859a-58122142eb20",
     "showTitle": false,
     "title": ""
    }
   },
   "outputs": [],
   "source": [
    "# Retrieve the parameter values\n",
    "job_id = dbutils.widgets.get(\"job_id\")\n",
    "usecase_id = dbutils.widgets.get(\"usecase_id\")\n",
    "\n",
    "# Print the parameter values\n",
    "print(f\"job_id: {job_id}\")\n",
    "print(f\"usecase_id: {usecase_id}\")"
   ]
  },
  {
   "cell_type": "code",
   "execution_count": 0,
   "metadata": {
    "application/vnd.databricks.v1+cell": {
     "cellMetadata": {
      "byteLimit": 2048000,
      "rowLimit": 10000
     },
     "inputWidgets": {},
     "nuid": "7d67727d-3e4d-4912-a55e-3db092c03882",
     "showTitle": false,
     "title": ""
    }
   },
   "outputs": [],
   "source": [
    "class Error_Handle:\n",
    "  def __init__(self):\n",
    "    self.query = \"Query About to fill\"\n",
    "    self.sql_df = pd.DataFrame()\n",
    "    self.data_json = {\"Data\":[]}    \n",
    "    self.usecase_id = None\n",
    "  \n",
    "  def logger(self, message):\n",
    "    print(message)\n",
    "    \n",
    "  def set_query_string(self, usecase_parm):\n",
    "    query = f\"\"\"with m(usecase_id,hist_retention) as (SELECT USECASE_ID, hist_retention FROM com_us_alyt_ngebox.metadata_usecase WHERE USECASE_ID = '{usecase_parm}'),\n",
    "s(NGEBox_Record_ID,SUGGEST_EXTERNAL_ID_VOD__C) as (select p.NGEBox_Record_ID, p.SUGGEST_EXTERNAL_ID_VOD__C from (select * from com_us_alyt_ngebox.ngebox_suggestion_requests_processed where USECASE_ID = '{usecase_parm}') p left join com_us_lake.rep_suggestion_vod__c s on p.SUGGEST_EXTERNAL_ID_VOD__C = s.SUGGESTION_EXTERNAL_ID_VOD__C where p.usecase_id in (select usecase_id from m) and (s.SUGGESTION_EXTERNAL_ID_VOD__C is NULL or (s.SUGGESTION_EXTERNAL_ID_VOD__C is not null and s.DISMISSED_VOD__C = 0)) ),\n",
    "p(usecase_id,NGEBox_Record_ID ) as (select pt.usecase_id,pt.NGEBox_Record_ID from com_us_alyt_ngebox.ngebox_suggestion_requests_processed pt where pt.USECASE_ID = '{usecase_parm}' and pt.ownerid is null and pt.usecase_id in (511,512) and CAST(pt.created_date as DATE) >= date_add(current_date, -(select m.hist_retention from m)) and pt.SUGGEST_EXTERNAL_ID_VOD__C in (select distinct SUGGEST_EXTERNAL_ID_VOD__C from s where pt.NGEBox_Record_ID = s.NGEBox_Record_ID ))\n",
    "merge into com_us_alyt_ngebox.ngebox_suggestion_requests_processed process_table using ( select usecase_id,NGEBox_Record_ID from p ) source_table on ( process_table.USECASE_ID = '{usecase_parm}' and process_table.usecase_id = source_table.usecase_id and process_table.NGEBox_Record_ID = source_table.NGEBox_Record_ID ) when matched then update set process_table.Not_Sent_To_Veeva_Reason = CASE WHEN process_table.Not_Sent_To_Veeva_Reason IS NULL THEN 'ownerid is null' ELSE CONCAT(process_table.Not_Sent_To_Veeva_Reason, '|', 'ownerid is null') END;\n",
    "\n",
    "with m(usecase_id,hist_retention) as (SELECT USECASE_ID, hist_retention FROM com_us_alyt_ngebox.metadata_usecase WHERE USECASE_ID = '{usecase_parm}'),\n",
    "s(NGEBox_Record_ID,SUGGEST_EXTERNAL_ID_VOD__C) as (select p.NGEBox_Record_ID, p.SUGGEST_EXTERNAL_ID_VOD__C from (select * from com_us_alyt_ngebox.ngebox_suggestion_requests_processed where USECASE_ID = '{usecase_parm}') p left join com_us_lake.rep_suggestion_vod__c s on p.SUGGEST_EXTERNAL_ID_VOD__C = s.SUGGESTION_EXTERNAL_ID_VOD__C where p.USECASE_ID = '{usecase_parm}' and  p.usecase_id in (select usecase_id from m) and (s.SUGGESTION_EXTERNAL_ID_VOD__C is NULL or (s.SUGGESTION_EXTERNAL_ID_VOD__C is not null and s.DISMISSED_VOD__C = 0)) ),\n",
    "p(usecase_id,NGEBox_Record_ID ) as (select pt.usecase_id,pt.NGEBox_Record_ID from com_us_alyt_ngebox.ngebox_suggestion_requests_processed pt where pt.USECASE_ID = '{usecase_parm}' and pt.HCP_OMNI_ID is null  and pt.usecase_id in (511) and CAST(pt.created_date as DATE) >= date_add(current_date, -(select m.hist_retention from m)) and pt.SUGGEST_EXTERNAL_ID_VOD__C in (select distinct SUGGEST_EXTERNAL_ID_VOD__C from s where pt.NGEBox_Record_ID = s.NGEBox_Record_ID ))\n",
    "merge into com_us_alyt_ngebox.ngebox_suggestion_requests_processed process_table using ( select usecase_id,NGEBox_Record_ID from p ) source_table on (process_table.USECASE_ID = '{usecase_parm}' and process_table.usecase_id = source_table.usecase_id and process_table.NGEBox_Record_ID = source_table.NGEBox_Record_ID ) when matched then update set process_table.Not_Sent_To_Veeva_Reason = CASE WHEN process_table.Not_Sent_To_Veeva_Reason IS NULL THEN 'Omni_id is null' ELSE CONCAT(process_table.Not_Sent_To_Veeva_Reason, '|', 'Omni_id is null') END;\n",
    "\n",
    "with m(usecase_id,hist_retention) as (SELECT USECASE_ID, hist_retention FROM com_us_alyt_ngebox.metadata_usecase WHERE USECASE_ID = '{usecase_parm}'),\n",
    "s(NGEBox_Record_ID,SUGGEST_EXTERNAL_ID_VOD__C) as (select p.NGEBox_Record_ID, p.SUGGEST_EXTERNAL_ID_VOD__C from (select * from com_us_alyt_ngebox.ngebox_suggestion_requests_processed where USECASE_ID = '{usecase_parm}') p left join com_us_lake.rep_suggestion_vod__c s on p.SUGGEST_EXTERNAL_ID_VOD__C = s.SUGGESTION_EXTERNAL_ID_VOD__C where p.USECASE_ID = '{usecase_parm}' and  p.usecase_id in (select usecase_id from m) and (s.SUGGESTION_EXTERNAL_ID_VOD__C is NULL or (s.SUGGESTION_EXTERNAL_ID_VOD__C is not null and s.DISMISSED_VOD__C = 0)) ),\n",
    "p(usecase_id,NGEBox_Record_ID ) as (select pt.usecase_id,pt.NGEBox_Record_ID from com_us_alyt_ngebox.ngebox_suggestion_requests_processed pt where pt.USECASE_ID = '{usecase_parm}' and pt.hcp_npi is null and pt.usecase_id in (511) and CAST(pt.created_date as DATE) >= date_add(current_date, -(select m.hist_retention from m)) and pt.SUGGEST_EXTERNAL_ID_VOD__C in (select distinct SUGGEST_EXTERNAL_ID_VOD__C from s where pt.NGEBox_Record_ID = s.NGEBox_Record_ID ))\n",
    "merge into com_us_alyt_ngebox.ngebox_suggestion_requests_processed process_table using ( select usecase_id,NGEBox_Record_ID from p ) source_table on (process_table.USECASE_ID = '{usecase_parm}' and process_table.USECASE_ID <> 511 and process_table.usecase_id = source_table.usecase_id and process_table.NGEBox_Record_ID = source_table.NGEBox_Record_ID ) when matched then update set process_table.Not_Sent_To_Veeva_Reason = CASE WHEN process_table.Not_Sent_To_Veeva_Reason IS NULL THEN 'NPI is null' ELSE CONCAT(process_table.Not_Sent_To_Veeva_Reason, '|', 'NPI is null') END;\"\"\"\n",
    "    self.query = query    \n",
    "\n",
    "  def run_query_and_set_sqldf(self, usecase_id):\n",
    "      self.usecase_id = usecase_id\n",
    "      query_list = self.query.split(\";\")\n",
    "      self.sql_df = []  \n",
    "      for curr_query in query_list:\n",
    "          if curr_query.strip() == \"\":\n",
    "              continue\n",
    "          curr_query_with_param = curr_query.replace(\"Usecase_parm\", usecase_id)\n",
    "          sql_df = sqlContext.sql(curr_query_with_param).collect()\n",
    "          self.sql_df.extend(sql_df)\n",
    "    \n",
    "  def format_sqldf_to_json(self):\n",
    "    sql_output_rowlist = []\n",
    "    for curr_row in self.sql_df: \n",
    "      sql_output_rowlist.append (curr_row.asDict(True))\n",
    "    sql_df_new = pd.DataFrame(sql_output_rowlist)\n",
    "    sql_jsonstr = sql_df_new.to_json(orient=\"records\") # type(result) -> str\n",
    "    sql_jsonparse = json.loads(sql_jsonstr) # type(parsed_json) -> list\n",
    "    nb_json = {\"data\":sql_jsonparse} # type(metadata_json) -> dict\n",
    "    self.nb_json = nb_json\n",
    "    \n",
    "  def construct_microservice_response(self):\n",
    "    resp = {\n",
    "      \"nge_response\": {\n",
    "        \"status\": 200,\n",
    "        \"body\": self.nb_json\n",
    "      }\n",
    "    }\n",
    "    self.response = resp"
   ]
  },
  {
   "cell_type": "code",
   "execution_count": 0,
   "metadata": {
    "application/vnd.databricks.v1+cell": {
     "cellMetadata": {
      "byteLimit": 2048000,
      "rowLimit": 10000
     },
     "inputWidgets": {},
     "nuid": "4ac0cc69-ee1c-4653-bd09-5345822b5d59",
     "showTitle": false,
     "title": ""
    }
   },
   "outputs": [],
   "source": [
    "usecase_id = dbutils.widgets.get(\"usecase_id\")\n",
    "nb_obj = Error_Handle()\n",
    "nb_obj.set_query_string(usecase_parm=usecase_id)\n",
    "nb_obj.run_query_and_set_sqldf(usecase_id=usecase_id)\n",
    "nb_obj.format_sqldf_to_json()\n",
    "nb_obj.construct_microservice_response()\n",
    "dbutils.notebook.exit(nb_obj.response)"
   ]
  }
 ],
 "metadata": {
  "application/vnd.databricks.v1+notebook": {
   "dashboards": [],
   "language": "python",
   "notebookMetadata": {
    "pythonIndentUnit": 4
   },
   "notebookName": "NGE-BOX-NB-Error-Handling-Microservice",
   "widgets": {}
  }
 },
 "nbformat": 4,
 "nbformat_minor": 0
}
