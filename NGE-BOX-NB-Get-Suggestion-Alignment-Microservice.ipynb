{
 "cells": [
  {
   "cell_type": "code",
   "execution_count": 0,
   "metadata": {
    "application/vnd.databricks.v1+cell": {
     "cellMetadata": {
      "byteLimit": 2048000,
      "rowLimit": 10000
     },
     "inputWidgets": {},
     "nuid": "1bc9acb2-d31f-4e19-b7fe-5ff7aeaf7926",
     "showTitle": false,
     "title": ""
    }
   },
   "outputs": [
    {
     "output_type": "display_data",
     "data": {
      "application/vnd.databricks.v1+bamboolib_hint": "{\"pd.DataFrames\": [], \"version\": \"0.0.1\"}",
      "text/plain": []
     },
     "metadata": {},
     "output_type": "display_data"
    }
   ],
   "source": [
    "%python\n",
    "## Import libraries\n",
    "import pyspark as ps\n",
    "from pyspark.sql.functions import *\n",
    "from pyspark.sql.types import *\n",
    "from datetime import *\n",
    "import pandas as pd\n",
    "import json"
   ]
  },
  {
   "cell_type": "code",
   "execution_count": 0,
   "metadata": {
    "application/vnd.databricks.v1+cell": {
     "cellMetadata": {
      "byteLimit": 2048000,
      "rowLimit": 10000
     },
     "inputWidgets": {},
     "nuid": "b67e691e-e3b9-4bd9-9cd7-d83302e77917",
     "showTitle": false,
     "title": ""
    }
   },
   "outputs": [],
   "source": [
    "class GetSuggestion:\n",
    "  def __init__(self):\n",
    "    self.query = \"Query About to fill\"\n",
    "    self.sql_df = pd.DataFrame()\n",
    "    self.data_json = {\"Data\":[]}    \n",
    "  \n",
    "  def logger(message):\n",
    "    print(message)\n",
    "    \n",
    "  def set_query_string(self):\n",
    "    query = \"\"\"WITH t(NGEBOX_RECORD_ID, zip_cd, id, account_vod__c) AS \n",
    "(select distinct request_table.NGEBOX_RECORD_ID, terr.zip_cd, usr.id, request_table.account_vod__c from com_us_alyt_ngebox.ib_NGEBox_Suggestion_Requests  request_table \n",
    "left join com_us_alyt_ngebox.METADATA_USECASE met on request_table.usecase_id = met.USECASE_ID\n",
    "join com_us_alyt_ngebox.lkp_prod_salesforce  lkup on lkup.Prod_Nm = met.Prod_Nm\n",
    "left join (select distinct sf_cd,rpt_sales_org_key, zip_cd, geo_cd from com_us_hub.ref_zip_terr\n",
    "  where curr_ind = 'Y' and level = 'Territory' ) terr\n",
    "on request_table.hcp_zip_code = terr.zip_cd\n",
    "and terr.sf_cd = lkup.sf_cd\n",
    "left join com_us_hub.ref_emp_assignment assign\n",
    "on terr.geo_cd = assign.geo_code\n",
    "and current_date() between assignment_start_date and assignment_end_date\n",
    "inner join com_us_hub.ref_iengage_user usr\n",
    "on assign.emp_id = usr.EMPLOYEENUMBER and usr.isactive = 1)\n",
    "\n",
    "merge into com_us_alyt_ngebox.NGEBox_Suggestion_Requests_Processed process_table using (select distinct tb2.id,tb1.NGEBOX_RECORD_ID as NB_record_processed,tb2.NGEBOX_RECORD_ID as NB_record_t, tb4.hist_retention,tb1.suggest_external_id_vod__c  from com_us_alyt_ngebox.NGEBox_Suggestion_Requests_Processed tb1\n",
    "inner join t tb2 on tb1.NGEBOX_RECORD_ID = tb2.NGEBOX_RECORD_ID\n",
    "left join com_us_lake.rep_suggestion_vod__c tb3 on tb3.SUGGESTION_EXTERNAL_ID_VOD__C = tb1.suggest_external_id_vod__c\n",
    "inner join com_us_alyt_ngebox.metadata_usecase tb4 on tb1.usecase_id = tb4.usecase_id\n",
    "where (tb3.SUGGESTION_EXTERNAL_ID_VOD__C is NULL) \n",
    "or (tb3.SUGGESTION_EXTERNAL_ID_VOD__C is not null and tb3.DISMISSED_VOD__C = 0)) source_table on (process_table.NGEBOX_RECORD_ID = source_table.NB_record_processed and process_table.NGEBOX_RECORD_ID = source_table.NB_record_t and process_table.suggest_external_id_vod__c = source_table.suggest_external_id_vod__c and process_table.created_date >= date_add(current_date,-source_table.hist_retention))\n",
    "when matched then\n",
    "update set process_table.ownerid = source_table.id;\"\"\"\n",
    "    self.query = query\n",
    "\n",
    "  def run_query_and_set_sqldf(self):\n",
    "    query_list = self.query.split(\";\")\n",
    "    self.sql_df = []\n",
    "    for curr_query in query_list:\n",
    "      if curr_query.strip() == \"\":\n",
    "        continue\n",
    "      sql_df = sqlContext.sql(curr_query).collect() # type(sql_df) -> dict\n",
    "      self.sql_df = self.sql_df + sql_df\n",
    "    \n",
    "  def format_sqldf_to_json(self):\n",
    "    sql_output_rowlist = []\n",
    "    for curr_row in self.sql_df: \n",
    "      sql_output_rowlist.append (curr_row.asDict(True))\n",
    "    sql_df_new = pd.DataFrame(sql_output_rowlist)\n",
    "    sql_jsonstr = sql_df_new.to_json(orient=\"records\") # type(result) -> str\n",
    "    sql_jsonparse = json.loads(sql_jsonstr) # type(parsed_json) -> list\n",
    "    nb_json = {\"data\":sql_jsonparse} # type(metadata_json) -> dict\n",
    "    self.nb_json = nb_json\n",
    "    \n",
    "  def construct_microservice_response(self):\n",
    "    resp = {\n",
    "      \"nge_response\": {\n",
    "        \"status\": 200,\n",
    "        \"body\": self.nb_json\n",
    "      }\n",
    "    }\n",
    "    self.response = resp"
   ]
  },
  {
   "cell_type": "code",
   "execution_count": 0,
   "metadata": {
    "application/vnd.databricks.v1+cell": {
     "cellMetadata": {
      "byteLimit": 2048000,
      "rowLimit": 10000
     },
     "inputWidgets": {},
     "nuid": "fc355c6a-1634-4ea2-93d9-31bc9b9c4b9b",
     "showTitle": false,
     "title": ""
    }
   },
   "outputs": [
    {
     "output_type": "display_data",
     "data": {
      "text/plain": [
       "{'nge_response': {'status': 200, 'body': {'data': [{'num_affected_rows': 138, 'num_updated_rows': 138, 'num_deleted_rows': 0, 'num_inserted_rows': 0}]}}}"
      ]
     },
     "metadata": {
      "application/vnd.databricks.v1+output": {
       "arguments": {},
       "data": "{'nge_response': {'status': 200, 'body': {'data': [{'num_affected_rows': 138, 'num_updated_rows': 138, 'num_deleted_rows': 0, 'num_inserted_rows': 0}]}}}",
       "metadata": {},
       "type": "exit"
      }
     },
     "output_type": "display_data"
    }
   ],
   "source": [
    "%python\n",
    "data_obj = GetSuggestion()\n",
    "data_obj.set_query_string()\n",
    "data_obj.run_query_and_set_sqldf()\n",
    "data_obj.format_sqldf_to_json()\n",
    "data_obj.construct_microservice_response()\n",
    "dbutils.notebook.exit(\n",
    "  data_obj.response\n",
    ")"
   ]
  }
 ],
 "metadata": {
  "application/vnd.databricks.v1+notebook": {
   "dashboards": [],
   "language": "python",
   "notebookMetadata": {
    "pythonIndentUnit": 4
   },
   "notebookName": "NGE-BOX-NB-Get-Suggestion-Alignment-Microservice",
   "widgets": {}
  }
 },
 "nbformat": 4,
 "nbformat_minor": 0
}
